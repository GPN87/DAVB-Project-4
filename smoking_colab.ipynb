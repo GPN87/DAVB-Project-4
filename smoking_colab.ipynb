{
  "nbformat": 4,
  "nbformat_minor": 0,
  "metadata": {
    "colab": {
      "provenance": [],
      "authorship_tag": "ABX9TyNRjv+Pv8Avy2+2C/Bl3u4k"
    },
    "kernelspec": {
      "name": "python3",
      "display_name": "Python 3"
    },
    "language_info": {
      "name": "python"
    }
  },
  "cells": [
    {
      "cell_type": "code",
      "execution_count": 1,
      "metadata": {
        "id": "xSLnMcWI5JOr"
      },
      "outputs": [],
      "source": [
        "from sklearn.model_selection import train_test_split\n",
        "from sklearn.preprocessing import StandardScaler\n",
        "from sklearn.metrics import accuracy_score\n",
        "import pandas as pd\n",
        "import tensorflow as tf"
      ]
    },
    {
      "cell_type": "code",
      "source": [
        "smoking_df = pd.read_csv('https://static.bc-edx.com/data/dla-1-2/m21/lessons/2/myopia.csv')\n",
        "smoking_df.head()"
      ],
      "metadata": {
        "id": "R95Ey3vk_MJX"
      },
      "execution_count": null,
      "outputs": []
    }
  ]
}