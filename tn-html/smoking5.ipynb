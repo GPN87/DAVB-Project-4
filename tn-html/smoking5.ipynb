{
 "cells": [
  {
   "cell_type": "code",
   "execution_count": 127,
   "id": "f2d4c244",
   "metadata": {},
   "outputs": [],
   "source": [
    "# import dependencies\n",
    "from sklearn.model_selection import train_test_split\n",
    "from sklearn.preprocessing import StandardScaler,MinMaxScaler,OneHotEncoder\n",
    "from sklearn import tree, ensemble, metrics\n",
    "from sklearn.metrics import accuracy_score,confusion_matrix,classification_report\n",
    "\n",
    "from sklearn.linear_model import LogisticRegression\n",
    "from sklearn.tree import DecisionTreeClassifier\n",
    "from sklearn.neighbors import  KNeighborsClassifier\n",
    "from sklearn.ensemble import RandomForestClassifier\n",
    "from sklearn.ensemble import GradientBoostingClassifier\n",
    "from xgboost import XGBClassifier\n",
    "\n",
    "import pandas as pd\n",
    "import numpy as np\n",
    "import matplotlib.pyplot as plt\n",
    "import seaborn as sns\n",
    "import plotly as px\n",
    "import plotly.graph_objects as go\n"
   ]
  },
  {
   "cell_type": "code",
   "execution_count": 94,
   "id": "db23bac1",
   "metadata": {},
   "outputs": [
    {
     "data": {
      "text/html": [
       "<div>\n",
       "<style scoped>\n",
       "    .dataframe tbody tr th:only-of-type {\n",
       "        vertical-align: middle;\n",
       "    }\n",
       "\n",
       "    .dataframe tbody tr th {\n",
       "        vertical-align: top;\n",
       "    }\n",
       "\n",
       "    .dataframe thead th {\n",
       "        text-align: right;\n",
       "    }\n",
       "</style>\n",
       "<table border=\"1\" class=\"dataframe\">\n",
       "  <thead>\n",
       "    <tr style=\"text-align: right;\">\n",
       "      <th></th>\n",
       "      <th>ID</th>\n",
       "      <th>gender</th>\n",
       "      <th>age</th>\n",
       "      <th>height(cm)</th>\n",
       "      <th>weight(kg)</th>\n",
       "      <th>waist(cm)</th>\n",
       "      <th>eyesight(left)</th>\n",
       "      <th>eyesight(right)</th>\n",
       "      <th>hearing(left)</th>\n",
       "      <th>hearing(right)</th>\n",
       "      <th>...</th>\n",
       "      <th>hemoglobin</th>\n",
       "      <th>Urine protein</th>\n",
       "      <th>serum creatinine</th>\n",
       "      <th>AST</th>\n",
       "      <th>ALT</th>\n",
       "      <th>Gtp</th>\n",
       "      <th>oral</th>\n",
       "      <th>dental caries</th>\n",
       "      <th>tartar</th>\n",
       "      <th>smoking</th>\n",
       "    </tr>\n",
       "  </thead>\n",
       "  <tbody>\n",
       "    <tr>\n",
       "      <th>0</th>\n",
       "      <td>0</td>\n",
       "      <td>F</td>\n",
       "      <td>40</td>\n",
       "      <td>155</td>\n",
       "      <td>60</td>\n",
       "      <td>81.3</td>\n",
       "      <td>1.2</td>\n",
       "      <td>1.0</td>\n",
       "      <td>1.0</td>\n",
       "      <td>1.0</td>\n",
       "      <td>...</td>\n",
       "      <td>12.9</td>\n",
       "      <td>1.0</td>\n",
       "      <td>0.7</td>\n",
       "      <td>18.0</td>\n",
       "      <td>19.0</td>\n",
       "      <td>27.0</td>\n",
       "      <td>Y</td>\n",
       "      <td>0</td>\n",
       "      <td>Y</td>\n",
       "      <td>0</td>\n",
       "    </tr>\n",
       "    <tr>\n",
       "      <th>1</th>\n",
       "      <td>1</td>\n",
       "      <td>F</td>\n",
       "      <td>40</td>\n",
       "      <td>160</td>\n",
       "      <td>60</td>\n",
       "      <td>81.0</td>\n",
       "      <td>0.8</td>\n",
       "      <td>0.6</td>\n",
       "      <td>1.0</td>\n",
       "      <td>1.0</td>\n",
       "      <td>...</td>\n",
       "      <td>12.7</td>\n",
       "      <td>1.0</td>\n",
       "      <td>0.6</td>\n",
       "      <td>22.0</td>\n",
       "      <td>19.0</td>\n",
       "      <td>18.0</td>\n",
       "      <td>Y</td>\n",
       "      <td>0</td>\n",
       "      <td>Y</td>\n",
       "      <td>0</td>\n",
       "    </tr>\n",
       "    <tr>\n",
       "      <th>2</th>\n",
       "      <td>2</td>\n",
       "      <td>M</td>\n",
       "      <td>55</td>\n",
       "      <td>170</td>\n",
       "      <td>60</td>\n",
       "      <td>80.0</td>\n",
       "      <td>0.8</td>\n",
       "      <td>0.8</td>\n",
       "      <td>1.0</td>\n",
       "      <td>1.0</td>\n",
       "      <td>...</td>\n",
       "      <td>15.8</td>\n",
       "      <td>1.0</td>\n",
       "      <td>1.0</td>\n",
       "      <td>21.0</td>\n",
       "      <td>16.0</td>\n",
       "      <td>22.0</td>\n",
       "      <td>Y</td>\n",
       "      <td>0</td>\n",
       "      <td>N</td>\n",
       "      <td>1</td>\n",
       "    </tr>\n",
       "    <tr>\n",
       "      <th>3</th>\n",
       "      <td>3</td>\n",
       "      <td>M</td>\n",
       "      <td>40</td>\n",
       "      <td>165</td>\n",
       "      <td>70</td>\n",
       "      <td>88.0</td>\n",
       "      <td>1.5</td>\n",
       "      <td>1.5</td>\n",
       "      <td>1.0</td>\n",
       "      <td>1.0</td>\n",
       "      <td>...</td>\n",
       "      <td>14.7</td>\n",
       "      <td>1.0</td>\n",
       "      <td>1.0</td>\n",
       "      <td>19.0</td>\n",
       "      <td>26.0</td>\n",
       "      <td>18.0</td>\n",
       "      <td>Y</td>\n",
       "      <td>0</td>\n",
       "      <td>Y</td>\n",
       "      <td>0</td>\n",
       "    </tr>\n",
       "    <tr>\n",
       "      <th>4</th>\n",
       "      <td>4</td>\n",
       "      <td>F</td>\n",
       "      <td>40</td>\n",
       "      <td>155</td>\n",
       "      <td>60</td>\n",
       "      <td>86.0</td>\n",
       "      <td>1.0</td>\n",
       "      <td>1.0</td>\n",
       "      <td>1.0</td>\n",
       "      <td>1.0</td>\n",
       "      <td>...</td>\n",
       "      <td>12.5</td>\n",
       "      <td>1.0</td>\n",
       "      <td>0.6</td>\n",
       "      <td>16.0</td>\n",
       "      <td>14.0</td>\n",
       "      <td>22.0</td>\n",
       "      <td>Y</td>\n",
       "      <td>0</td>\n",
       "      <td>N</td>\n",
       "      <td>0</td>\n",
       "    </tr>\n",
       "    <tr>\n",
       "      <th>5</th>\n",
       "      <td>5</td>\n",
       "      <td>M</td>\n",
       "      <td>30</td>\n",
       "      <td>180</td>\n",
       "      <td>75</td>\n",
       "      <td>85.0</td>\n",
       "      <td>1.2</td>\n",
       "      <td>1.2</td>\n",
       "      <td>1.0</td>\n",
       "      <td>1.0</td>\n",
       "      <td>...</td>\n",
       "      <td>16.2</td>\n",
       "      <td>1.0</td>\n",
       "      <td>1.2</td>\n",
       "      <td>18.0</td>\n",
       "      <td>27.0</td>\n",
       "      <td>33.0</td>\n",
       "      <td>Y</td>\n",
       "      <td>0</td>\n",
       "      <td>Y</td>\n",
       "      <td>0</td>\n",
       "    </tr>\n",
       "    <tr>\n",
       "      <th>6</th>\n",
       "      <td>6</td>\n",
       "      <td>M</td>\n",
       "      <td>40</td>\n",
       "      <td>160</td>\n",
       "      <td>60</td>\n",
       "      <td>85.5</td>\n",
       "      <td>1.0</td>\n",
       "      <td>1.0</td>\n",
       "      <td>1.0</td>\n",
       "      <td>1.0</td>\n",
       "      <td>...</td>\n",
       "      <td>17.0</td>\n",
       "      <td>1.0</td>\n",
       "      <td>0.7</td>\n",
       "      <td>21.0</td>\n",
       "      <td>27.0</td>\n",
       "      <td>39.0</td>\n",
       "      <td>Y</td>\n",
       "      <td>1</td>\n",
       "      <td>Y</td>\n",
       "      <td>1</td>\n",
       "    </tr>\n",
       "    <tr>\n",
       "      <th>7</th>\n",
       "      <td>7</td>\n",
       "      <td>M</td>\n",
       "      <td>45</td>\n",
       "      <td>165</td>\n",
       "      <td>90</td>\n",
       "      <td>96.0</td>\n",
       "      <td>1.2</td>\n",
       "      <td>1.0</td>\n",
       "      <td>1.0</td>\n",
       "      <td>1.0</td>\n",
       "      <td>...</td>\n",
       "      <td>15.0</td>\n",
       "      <td>1.0</td>\n",
       "      <td>1.3</td>\n",
       "      <td>38.0</td>\n",
       "      <td>71.0</td>\n",
       "      <td>111.0</td>\n",
       "      <td>Y</td>\n",
       "      <td>0</td>\n",
       "      <td>Y</td>\n",
       "      <td>0</td>\n",
       "    </tr>\n",
       "    <tr>\n",
       "      <th>8</th>\n",
       "      <td>9</td>\n",
       "      <td>F</td>\n",
       "      <td>50</td>\n",
       "      <td>150</td>\n",
       "      <td>60</td>\n",
       "      <td>85.0</td>\n",
       "      <td>0.7</td>\n",
       "      <td>0.8</td>\n",
       "      <td>1.0</td>\n",
       "      <td>1.0</td>\n",
       "      <td>...</td>\n",
       "      <td>13.7</td>\n",
       "      <td>1.0</td>\n",
       "      <td>0.8</td>\n",
       "      <td>31.0</td>\n",
       "      <td>31.0</td>\n",
       "      <td>14.0</td>\n",
       "      <td>Y</td>\n",
       "      <td>0</td>\n",
       "      <td>N</td>\n",
       "      <td>0</td>\n",
       "    </tr>\n",
       "    <tr>\n",
       "      <th>9</th>\n",
       "      <td>10</td>\n",
       "      <td>M</td>\n",
       "      <td>45</td>\n",
       "      <td>175</td>\n",
       "      <td>75</td>\n",
       "      <td>89.0</td>\n",
       "      <td>1.0</td>\n",
       "      <td>1.0</td>\n",
       "      <td>1.0</td>\n",
       "      <td>1.0</td>\n",
       "      <td>...</td>\n",
       "      <td>16.0</td>\n",
       "      <td>1.0</td>\n",
       "      <td>0.8</td>\n",
       "      <td>26.0</td>\n",
       "      <td>24.0</td>\n",
       "      <td>63.0</td>\n",
       "      <td>Y</td>\n",
       "      <td>0</td>\n",
       "      <td>N</td>\n",
       "      <td>0</td>\n",
       "    </tr>\n",
       "  </tbody>\n",
       "</table>\n",
       "<p>10 rows × 27 columns</p>\n",
       "</div>"
      ],
      "text/plain": [
       "   ID gender  age  height(cm)  weight(kg)  waist(cm)  eyesight(left)  \\\n",
       "0   0      F   40         155          60       81.3             1.2   \n",
       "1   1      F   40         160          60       81.0             0.8   \n",
       "2   2      M   55         170          60       80.0             0.8   \n",
       "3   3      M   40         165          70       88.0             1.5   \n",
       "4   4      F   40         155          60       86.0             1.0   \n",
       "5   5      M   30         180          75       85.0             1.2   \n",
       "6   6      M   40         160          60       85.5             1.0   \n",
       "7   7      M   45         165          90       96.0             1.2   \n",
       "8   9      F   50         150          60       85.0             0.7   \n",
       "9  10      M   45         175          75       89.0             1.0   \n",
       "\n",
       "   eyesight(right)  hearing(left)  hearing(right)  ...  hemoglobin  \\\n",
       "0              1.0            1.0             1.0  ...        12.9   \n",
       "1              0.6            1.0             1.0  ...        12.7   \n",
       "2              0.8            1.0             1.0  ...        15.8   \n",
       "3              1.5            1.0             1.0  ...        14.7   \n",
       "4              1.0            1.0             1.0  ...        12.5   \n",
       "5              1.2            1.0             1.0  ...        16.2   \n",
       "6              1.0            1.0             1.0  ...        17.0   \n",
       "7              1.0            1.0             1.0  ...        15.0   \n",
       "8              0.8            1.0             1.0  ...        13.7   \n",
       "9              1.0            1.0             1.0  ...        16.0   \n",
       "\n",
       "   Urine protein  serum creatinine   AST   ALT    Gtp  oral  dental caries  \\\n",
       "0            1.0               0.7  18.0  19.0   27.0     Y              0   \n",
       "1            1.0               0.6  22.0  19.0   18.0     Y              0   \n",
       "2            1.0               1.0  21.0  16.0   22.0     Y              0   \n",
       "3            1.0               1.0  19.0  26.0   18.0     Y              0   \n",
       "4            1.0               0.6  16.0  14.0   22.0     Y              0   \n",
       "5            1.0               1.2  18.0  27.0   33.0     Y              0   \n",
       "6            1.0               0.7  21.0  27.0   39.0     Y              1   \n",
       "7            1.0               1.3  38.0  71.0  111.0     Y              0   \n",
       "8            1.0               0.8  31.0  31.0   14.0     Y              0   \n",
       "9            1.0               0.8  26.0  24.0   63.0     Y              0   \n",
       "\n",
       "   tartar  smoking  \n",
       "0       Y        0  \n",
       "1       Y        0  \n",
       "2       N        1  \n",
       "3       Y        0  \n",
       "4       N        0  \n",
       "5       Y        0  \n",
       "6       Y        1  \n",
       "7       Y        0  \n",
       "8       N        0  \n",
       "9       N        0  \n",
       "\n",
       "[10 rows x 27 columns]"
      ]
     },
     "execution_count": 94,
     "metadata": {},
     "output_type": "execute_result"
    }
   ],
   "source": [
    "# read the database\n",
    "smoking_df = pd.read_csv('../data/smoking.csv')\n",
    "smoking_df.head(10)"
   ]
  },
  {
   "cell_type": "code",
   "execution_count": 95,
   "id": "6a9b4ee9",
   "metadata": {},
   "outputs": [],
   "source": [
    "# Dropping ID column as it is not needed\n",
    "smoking_df.drop('ID',axis=1,inplace=True)"
   ]
  },
  {
   "cell_type": "code",
   "execution_count": 96,
   "id": "4f6a7bc4",
   "metadata": {},
   "outputs": [
    {
     "data": {
      "text/plain": [
       "gender                  object\n",
       "age                      int64\n",
       "height(cm)               int64\n",
       "weight(kg)               int64\n",
       "waist(cm)              float64\n",
       "eyesight(left)         float64\n",
       "eyesight(right)        float64\n",
       "hearing(left)          float64\n",
       "hearing(right)         float64\n",
       "systolic               float64\n",
       "relaxation             float64\n",
       "fasting blood sugar    float64\n",
       "Cholesterol            float64\n",
       "triglyceride           float64\n",
       "HDL                    float64\n",
       "LDL                    float64\n",
       "hemoglobin             float64\n",
       "Urine protein          float64\n",
       "serum creatinine       float64\n",
       "AST                    float64\n",
       "ALT                    float64\n",
       "Gtp                    float64\n",
       "oral                    object\n",
       "dental caries            int64\n",
       "tartar                  object\n",
       "smoking                  int64\n",
       "dtype: object"
      ]
     },
     "execution_count": 96,
     "metadata": {},
     "output_type": "execute_result"
    }
   ],
   "source": [
    "# Check the dataset daya types\n",
    "smoking_df.dtypes"
   ]
  },
  {
   "cell_type": "code",
   "execution_count": 97,
   "id": "c79f26a8",
   "metadata": {},
   "outputs": [
    {
     "data": {
      "text/html": [
       "<div>\n",
       "<style scoped>\n",
       "    .dataframe tbody tr th:only-of-type {\n",
       "        vertical-align: middle;\n",
       "    }\n",
       "\n",
       "    .dataframe tbody tr th {\n",
       "        vertical-align: top;\n",
       "    }\n",
       "\n",
       "    .dataframe thead th {\n",
       "        text-align: right;\n",
       "    }\n",
       "</style>\n",
       "<table border=\"1\" class=\"dataframe\">\n",
       "  <thead>\n",
       "    <tr style=\"text-align: right;\">\n",
       "      <th></th>\n",
       "      <th>age</th>\n",
       "      <th>height(cm)</th>\n",
       "      <th>weight(kg)</th>\n",
       "      <th>waist(cm)</th>\n",
       "      <th>eyesight(left)</th>\n",
       "      <th>eyesight(right)</th>\n",
       "      <th>hearing(left)</th>\n",
       "      <th>hearing(right)</th>\n",
       "      <th>systolic</th>\n",
       "      <th>relaxation</th>\n",
       "      <th>...</th>\n",
       "      <th>HDL</th>\n",
       "      <th>LDL</th>\n",
       "      <th>hemoglobin</th>\n",
       "      <th>Urine protein</th>\n",
       "      <th>serum creatinine</th>\n",
       "      <th>AST</th>\n",
       "      <th>ALT</th>\n",
       "      <th>Gtp</th>\n",
       "      <th>dental caries</th>\n",
       "      <th>smoking</th>\n",
       "    </tr>\n",
       "  </thead>\n",
       "  <tbody>\n",
       "    <tr>\n",
       "      <th>count</th>\n",
       "      <td>55692.00</td>\n",
       "      <td>55692.00</td>\n",
       "      <td>55692.00</td>\n",
       "      <td>55692.00</td>\n",
       "      <td>55692.00</td>\n",
       "      <td>55692.00</td>\n",
       "      <td>55692.00</td>\n",
       "      <td>55692.00</td>\n",
       "      <td>55692.00</td>\n",
       "      <td>55692.00</td>\n",
       "      <td>...</td>\n",
       "      <td>55692.00</td>\n",
       "      <td>55692.00</td>\n",
       "      <td>55692.00</td>\n",
       "      <td>55692.00</td>\n",
       "      <td>55692.00</td>\n",
       "      <td>55692.00</td>\n",
       "      <td>55692.00</td>\n",
       "      <td>55692.00</td>\n",
       "      <td>55692.00</td>\n",
       "      <td>55692.00</td>\n",
       "    </tr>\n",
       "    <tr>\n",
       "      <th>mean</th>\n",
       "      <td>44.18</td>\n",
       "      <td>164.65</td>\n",
       "      <td>65.86</td>\n",
       "      <td>82.05</td>\n",
       "      <td>1.01</td>\n",
       "      <td>1.01</td>\n",
       "      <td>1.03</td>\n",
       "      <td>1.03</td>\n",
       "      <td>121.49</td>\n",
       "      <td>76.00</td>\n",
       "      <td>...</td>\n",
       "      <td>57.29</td>\n",
       "      <td>114.96</td>\n",
       "      <td>14.62</td>\n",
       "      <td>1.09</td>\n",
       "      <td>0.89</td>\n",
       "      <td>26.18</td>\n",
       "      <td>27.04</td>\n",
       "      <td>39.95</td>\n",
       "      <td>0.21</td>\n",
       "      <td>0.37</td>\n",
       "    </tr>\n",
       "    <tr>\n",
       "      <th>std</th>\n",
       "      <td>12.07</td>\n",
       "      <td>9.19</td>\n",
       "      <td>12.82</td>\n",
       "      <td>9.27</td>\n",
       "      <td>0.49</td>\n",
       "      <td>0.49</td>\n",
       "      <td>0.16</td>\n",
       "      <td>0.16</td>\n",
       "      <td>13.68</td>\n",
       "      <td>9.68</td>\n",
       "      <td>...</td>\n",
       "      <td>14.74</td>\n",
       "      <td>40.93</td>\n",
       "      <td>1.56</td>\n",
       "      <td>0.40</td>\n",
       "      <td>0.22</td>\n",
       "      <td>19.36</td>\n",
       "      <td>30.95</td>\n",
       "      <td>50.29</td>\n",
       "      <td>0.41</td>\n",
       "      <td>0.48</td>\n",
       "    </tr>\n",
       "    <tr>\n",
       "      <th>min</th>\n",
       "      <td>20.00</td>\n",
       "      <td>130.00</td>\n",
       "      <td>30.00</td>\n",
       "      <td>51.00</td>\n",
       "      <td>0.10</td>\n",
       "      <td>0.10</td>\n",
       "      <td>1.00</td>\n",
       "      <td>1.00</td>\n",
       "      <td>71.00</td>\n",
       "      <td>40.00</td>\n",
       "      <td>...</td>\n",
       "      <td>4.00</td>\n",
       "      <td>1.00</td>\n",
       "      <td>4.90</td>\n",
       "      <td>1.00</td>\n",
       "      <td>0.10</td>\n",
       "      <td>6.00</td>\n",
       "      <td>1.00</td>\n",
       "      <td>1.00</td>\n",
       "      <td>0.00</td>\n",
       "      <td>0.00</td>\n",
       "    </tr>\n",
       "    <tr>\n",
       "      <th>25%</th>\n",
       "      <td>40.00</td>\n",
       "      <td>160.00</td>\n",
       "      <td>55.00</td>\n",
       "      <td>76.00</td>\n",
       "      <td>0.80</td>\n",
       "      <td>0.80</td>\n",
       "      <td>1.00</td>\n",
       "      <td>1.00</td>\n",
       "      <td>112.00</td>\n",
       "      <td>70.00</td>\n",
       "      <td>...</td>\n",
       "      <td>47.00</td>\n",
       "      <td>92.00</td>\n",
       "      <td>13.60</td>\n",
       "      <td>1.00</td>\n",
       "      <td>0.80</td>\n",
       "      <td>19.00</td>\n",
       "      <td>15.00</td>\n",
       "      <td>17.00</td>\n",
       "      <td>0.00</td>\n",
       "      <td>0.00</td>\n",
       "    </tr>\n",
       "    <tr>\n",
       "      <th>50%</th>\n",
       "      <td>40.00</td>\n",
       "      <td>165.00</td>\n",
       "      <td>65.00</td>\n",
       "      <td>82.00</td>\n",
       "      <td>1.00</td>\n",
       "      <td>1.00</td>\n",
       "      <td>1.00</td>\n",
       "      <td>1.00</td>\n",
       "      <td>120.00</td>\n",
       "      <td>76.00</td>\n",
       "      <td>...</td>\n",
       "      <td>55.00</td>\n",
       "      <td>113.00</td>\n",
       "      <td>14.80</td>\n",
       "      <td>1.00</td>\n",
       "      <td>0.90</td>\n",
       "      <td>23.00</td>\n",
       "      <td>21.00</td>\n",
       "      <td>25.00</td>\n",
       "      <td>0.00</td>\n",
       "      <td>0.00</td>\n",
       "    </tr>\n",
       "    <tr>\n",
       "      <th>75%</th>\n",
       "      <td>55.00</td>\n",
       "      <td>170.00</td>\n",
       "      <td>75.00</td>\n",
       "      <td>88.00</td>\n",
       "      <td>1.20</td>\n",
       "      <td>1.20</td>\n",
       "      <td>1.00</td>\n",
       "      <td>1.00</td>\n",
       "      <td>130.00</td>\n",
       "      <td>82.00</td>\n",
       "      <td>...</td>\n",
       "      <td>66.00</td>\n",
       "      <td>136.00</td>\n",
       "      <td>15.80</td>\n",
       "      <td>1.00</td>\n",
       "      <td>1.00</td>\n",
       "      <td>28.00</td>\n",
       "      <td>31.00</td>\n",
       "      <td>43.00</td>\n",
       "      <td>0.00</td>\n",
       "      <td>1.00</td>\n",
       "    </tr>\n",
       "    <tr>\n",
       "      <th>max</th>\n",
       "      <td>85.00</td>\n",
       "      <td>190.00</td>\n",
       "      <td>135.00</td>\n",
       "      <td>129.00</td>\n",
       "      <td>9.90</td>\n",
       "      <td>9.90</td>\n",
       "      <td>2.00</td>\n",
       "      <td>2.00</td>\n",
       "      <td>240.00</td>\n",
       "      <td>146.00</td>\n",
       "      <td>...</td>\n",
       "      <td>618.00</td>\n",
       "      <td>1860.00</td>\n",
       "      <td>21.10</td>\n",
       "      <td>6.00</td>\n",
       "      <td>11.60</td>\n",
       "      <td>1311.00</td>\n",
       "      <td>2914.00</td>\n",
       "      <td>999.00</td>\n",
       "      <td>1.00</td>\n",
       "      <td>1.00</td>\n",
       "    </tr>\n",
       "  </tbody>\n",
       "</table>\n",
       "<p>8 rows × 23 columns</p>\n",
       "</div>"
      ],
      "text/plain": [
       "            age  height(cm)  weight(kg)  waist(cm)  eyesight(left)  \\\n",
       "count  55692.00    55692.00    55692.00   55692.00        55692.00   \n",
       "mean      44.18      164.65       65.86      82.05            1.01   \n",
       "std       12.07        9.19       12.82       9.27            0.49   \n",
       "min       20.00      130.00       30.00      51.00            0.10   \n",
       "25%       40.00      160.00       55.00      76.00            0.80   \n",
       "50%       40.00      165.00       65.00      82.00            1.00   \n",
       "75%       55.00      170.00       75.00      88.00            1.20   \n",
       "max       85.00      190.00      135.00     129.00            9.90   \n",
       "\n",
       "       eyesight(right)  hearing(left)  hearing(right)  systolic  relaxation  \\\n",
       "count         55692.00       55692.00        55692.00  55692.00    55692.00   \n",
       "mean              1.01           1.03            1.03    121.49       76.00   \n",
       "std               0.49           0.16            0.16     13.68        9.68   \n",
       "min               0.10           1.00            1.00     71.00       40.00   \n",
       "25%               0.80           1.00            1.00    112.00       70.00   \n",
       "50%               1.00           1.00            1.00    120.00       76.00   \n",
       "75%               1.20           1.00            1.00    130.00       82.00   \n",
       "max               9.90           2.00            2.00    240.00      146.00   \n",
       "\n",
       "       ...       HDL       LDL  hemoglobin  Urine protein  serum creatinine  \\\n",
       "count  ...  55692.00  55692.00    55692.00       55692.00          55692.00   \n",
       "mean   ...     57.29    114.96       14.62           1.09              0.89   \n",
       "std    ...     14.74     40.93        1.56           0.40              0.22   \n",
       "min    ...      4.00      1.00        4.90           1.00              0.10   \n",
       "25%    ...     47.00     92.00       13.60           1.00              0.80   \n",
       "50%    ...     55.00    113.00       14.80           1.00              0.90   \n",
       "75%    ...     66.00    136.00       15.80           1.00              1.00   \n",
       "max    ...    618.00   1860.00       21.10           6.00             11.60   \n",
       "\n",
       "            AST       ALT       Gtp  dental caries   smoking  \n",
       "count  55692.00  55692.00  55692.00       55692.00  55692.00  \n",
       "mean      26.18     27.04     39.95           0.21      0.37  \n",
       "std       19.36     30.95     50.29           0.41      0.48  \n",
       "min        6.00      1.00      1.00           0.00      0.00  \n",
       "25%       19.00     15.00     17.00           0.00      0.00  \n",
       "50%       23.00     21.00     25.00           0.00      0.00  \n",
       "75%       28.00     31.00     43.00           0.00      1.00  \n",
       "max     1311.00   2914.00    999.00           1.00      1.00  \n",
       "\n",
       "[8 rows x 23 columns]"
      ]
     },
     "execution_count": 97,
     "metadata": {},
     "output_type": "execute_result"
    }
   ],
   "source": [
    "# describe data set\n",
    "smoking_df.describe().round(2)"
   ]
  },
  {
   "cell_type": "code",
   "execution_count": 98,
   "id": "07675063",
   "metadata": {},
   "outputs": [
    {
     "data": {
      "text/plain": [
       "oral                     1\n",
       "gender                   2\n",
       "dental caries            2\n",
       "tartar                   2\n",
       "hearing(right)           2\n",
       "hearing(left)            2\n",
       "smoking                  2\n",
       "Urine protein            6\n",
       "height(cm)              13\n",
       "age                     14\n",
       "eyesight(right)         17\n",
       "eyesight(left)          19\n",
       "weight(kg)              22\n",
       "serum creatinine        38\n",
       "relaxation              95\n",
       "HDL                    126\n",
       "systolic               130\n",
       "hemoglobin             145\n",
       "AST                    219\n",
       "ALT                    245\n",
       "fasting blood sugar    276\n",
       "Cholesterol            286\n",
       "LDL                    289\n",
       "triglyceride           390\n",
       "Gtp                    488\n",
       "waist(cm)              566\n",
       "dtype: int64"
      ]
     },
     "execution_count": 98,
     "metadata": {},
     "output_type": "execute_result"
    }
   ],
   "source": [
    "# check unique value\n",
    "smoking_df.nunique().sort_values()"
   ]
  },
  {
   "cell_type": "code",
   "execution_count": 99,
   "id": "6806cb24",
   "metadata": {},
   "outputs": [
    {
     "data": {
      "text/plain": [
       "gender                 0\n",
       "age                    0\n",
       "height(cm)             0\n",
       "weight(kg)             0\n",
       "waist(cm)              0\n",
       "eyesight(left)         0\n",
       "eyesight(right)        0\n",
       "hearing(left)          0\n",
       "hearing(right)         0\n",
       "systolic               0\n",
       "relaxation             0\n",
       "fasting blood sugar    0\n",
       "Cholesterol            0\n",
       "triglyceride           0\n",
       "HDL                    0\n",
       "LDL                    0\n",
       "hemoglobin             0\n",
       "Urine protein          0\n",
       "serum creatinine       0\n",
       "AST                    0\n",
       "ALT                    0\n",
       "Gtp                    0\n",
       "oral                   0\n",
       "dental caries          0\n",
       "tartar                 0\n",
       "smoking                0\n",
       "dtype: int64"
      ]
     },
     "execution_count": 99,
     "metadata": {},
     "output_type": "execute_result"
    }
   ],
   "source": [
    "# check null value in data\n",
    "smoking_df.isnull().sum()"
   ]
  },
  {
   "cell_type": "code",
   "execution_count": 100,
   "id": "4a7d5415",
   "metadata": {},
   "outputs": [
    {
     "name": "stdout",
     "output_type": "stream",
     "text": [
      "11140\n"
     ]
    }
   ],
   "source": [
    "# Checking Duplicate data\n",
    "print(smoking_df.duplicated().sum())"
   ]
  },
  {
   "cell_type": "code",
   "execution_count": 101,
   "id": "179a7f53",
   "metadata": {},
   "outputs": [
    {
     "name": "stdout",
     "output_type": "stream",
     "text": [
      "Number of duplicate rows:  11140\n",
      "Rows in original Dataframe: 55692\n",
      "Dataframe rows after removing duplicates: 44552\n"
     ]
    }
   ],
   "source": [
    "print(\"Number of duplicate rows: \", smoking_df[smoking_df.duplicated() == True].shape[0])\n",
    "print(f\"Rows in original Dataframe: {smoking_df.shape[0]}\")\n",
    "\n",
    "new_smoking_df = smoking_df.drop_duplicates()\n",
    "\n",
    "print(f\"Dataframe rows after removing duplicates: {new_smoking_df.shape[0]}\")"
   ]
  },
  {
   "cell_type": "code",
   "execution_count": 102,
   "id": "28046aa0",
   "metadata": {},
   "outputs": [
    {
     "data": {
      "text/plain": [
       "(44552, 26)"
      ]
     },
     "execution_count": 102,
     "metadata": {},
     "output_type": "execute_result"
    }
   ],
   "source": [
    "new_smoking_df.shape"
   ]
  },
  {
   "cell_type": "code",
   "execution_count": 103,
   "id": "bf4ef9b8",
   "metadata": {},
   "outputs": [
    {
     "data": {
      "text/plain": [
       "<matplotlib.axes._subplots.AxesSubplot at 0x7fb301d71f10>"
      ]
     },
     "execution_count": 103,
     "metadata": {},
     "output_type": "execute_result"
    },
    {
     "data": {
      "image/png": "[encoded data removed]",
      "text/plain": [
       "<Figure size 432x432 with 1 Axes>"
      ]
     },
     "metadata": {},
     "output_type": "display_data"
    }
   ],
   "source": [
    "# visualization of gender data\n",
    "smoking_df['gender'].value_counts().plot.pie(explode=[0,0.1],autopct='%1.1f%%', figsize=(6,6))"
   ]
  },
  {
   "cell_type": "code",
   "execution_count": 104,
   "id": "3347c8b5",
   "metadata": {},
   "outputs": [
    {
     "data": {
      "image/png": "[encoded data removed]",
      "text/plain": [
       "<Figure size 360x432 with 1 Axes>"
      ]
     },
     "metadata": {},
     "output_type": "display_data"
    }
   ],
   "source": [
    "# visualization of gender data\n",
    "# smoking_df['smoking'].value_counts().plot.bar()\n",
    "plt.figure(figsize=(5,6))\n",
    "plt.xlabel(\"smoking\")\n",
    "sns.countplot(data=smoking_df, x='smoking', palette='BuPu_r')\n",
    "plt.show()"
   ]
  },
  {
   "cell_type": "code",
   "execution_count": 105,
   "id": "1c557b77",
   "metadata": {},
   "outputs": [
    {
     "data": {
      "text/plain": [
       "0    35237\n",
       "1    20455\n",
       "Name: smoking, dtype: int64"
      ]
     },
     "execution_count": 105,
     "metadata": {},
     "output_type": "execute_result"
    }
   ],
   "source": [
    "# total of non smoking and smoking\n",
    "smoking_df['smoking'].value_counts()"
   ]
  },
  {
   "cell_type": "code",
   "execution_count": 106,
   "id": "636a0ca8",
   "metadata": {},
   "outputs": [
    {
     "data": {
      "image/png": "[encoded data removed]",
      "text/plain": [
       "<Figure size 1440x576 with 2 Axes>"
      ]
     },
     "metadata": {},
     "output_type": "display_data"
    }
   ],
   "source": [
    "# Age analysys of people who smokes and not\n",
    "fig, ax = plt.subplots(1, 2, figsize=(20, 8))\n",
    "\n",
    "sns.histplot(data=new_smoking_df, x=\"age\",hue=\"smoking\", bins=10, ax=ax[0])\n",
    "sns.boxplot(data=new_smoking_df, x=\"age\", ax=ax[1], showmeans=True,\n",
    "            meanprops={\"marker\": \"+\", \"markeredgecolor\": \"black\", \"markersize\": \"10\"})\n",
    "\n",
    "\n",
    "plt.show()"
   ]
  },
  {
   "cell_type": "code",
   "execution_count": 107,
   "id": "fa1e94bb",
   "metadata": {},
   "outputs": [
    {
     "data": {
      "image/png": "[encoded data removed]",
      "text/plain": [
       "<Figure size 720x576 with 1 Axes>"
      ]
     },
     "metadata": {},
     "output_type": "display_data"
    }
   ],
   "source": [
    "# height analysys of people who smokes and not\n",
    "plt.figure(figsize=(10, 8))\n",
    "\n",
    "sns.histplot(data=new_smoking_df, x=\"height(cm)\", hue=\"smoking\", bins=10)\n",
    "\n",
    "plt.show()"
   ]
  },
  {
   "cell_type": "code",
   "execution_count": 108,
   "id": "2fbbba8a",
   "metadata": {},
   "outputs": [
    {
     "data": {
      "image/png": "[encoded data removed]",
      "text/plain": [
       "<Figure size 720x576 with 1 Axes>"
      ]
     },
     "metadata": {},
     "output_type": "display_data"
    }
   ],
   "source": [
    "# weight analysys of people who smokes and not\n",
    "plt.figure(figsize=(10, 8))\n",
    "\n",
    "sns.histplot(data=new_smoking_df, x=\"weight(kg)\", hue=\"smoking\", bins=10)\n",
    "\n",
    "plt.show()"
   ]
  },
  {
   "cell_type": "code",
   "execution_count": 109,
   "id": "85865348",
   "metadata": {},
   "outputs": [
    {
     "data": {
      "image/png": "[encoded data removed]",
      "text/plain": [
       "<Figure size 720x576 with 1 Axes>"
      ]
     },
     "metadata": {},
     "output_type": "display_data"
    }
   ],
   "source": [
    "# hemoglobin analysys of people who smokes and not\n",
    "plt.figure(figsize=(10, 8))\n",
    "\n",
    "sns.histplot(data=new_smoking_df, x=\"hemoglobin\", hue=\"smoking\", bins=10)\n",
    "\n",
    "plt.show()"
   ]
  },
  {
   "cell_type": "code",
   "execution_count": 110,
   "id": "72d72509",
   "metadata": {},
   "outputs": [
    {
     "data": {
      "text/plain": [
       "<matplotlib.axes._subplots.AxesSubplot at 0x7fb301216b10>"
      ]
     },
     "execution_count": 110,
     "metadata": {},
     "output_type": "execute_result"
    },
    {
     "data": {
      "image/png": "[encoded data removed]",
      "text/plain": [
       "<Figure size 1944x1728 with 2 Axes>"
      ]
     },
     "metadata": {},
     "output_type": "display_data"
    }
   ],
   "source": [
    "# heatmap of correlation\n",
    "sns.set(rc={\"figure.figsize\":(27, 24)})\n",
    "sns.heatmap(new_smoking_df.corr(), annot=True, square=True, cmap='PRGn')"
   ]
  },
  {
   "cell_type": "code",
   "execution_count": 111,
   "id": "0b1ee7f4",
   "metadata": {},
   "outputs": [
    {
     "data": {
      "text/html": [
       "<div>\n",
       "<style scoped>\n",
       "    .dataframe tbody tr th:only-of-type {\n",
       "        vertical-align: middle;\n",
       "    }\n",
       "\n",
       "    .dataframe tbody tr th {\n",
       "        vertical-align: top;\n",
       "    }\n",
       "\n",
       "    .dataframe thead th {\n",
       "        text-align: right;\n",
       "    }\n",
       "</style>\n",
       "<table border=\"1\" class=\"dataframe\">\n",
       "  <thead>\n",
       "    <tr style=\"text-align: right;\">\n",
       "      <th></th>\n",
       "      <th>gender</th>\n",
       "      <th>oral</th>\n",
       "      <th>tartar</th>\n",
       "    </tr>\n",
       "  </thead>\n",
       "  <tbody>\n",
       "    <tr>\n",
       "      <th>0</th>\n",
       "      <td>F</td>\n",
       "      <td>Y</td>\n",
       "      <td>Y</td>\n",
       "    </tr>\n",
       "    <tr>\n",
       "      <th>1</th>\n",
       "      <td>F</td>\n",
       "      <td>Y</td>\n",
       "      <td>Y</td>\n",
       "    </tr>\n",
       "    <tr>\n",
       "      <th>2</th>\n",
       "      <td>M</td>\n",
       "      <td>Y</td>\n",
       "      <td>N</td>\n",
       "    </tr>\n",
       "    <tr>\n",
       "      <th>3</th>\n",
       "      <td>M</td>\n",
       "      <td>Y</td>\n",
       "      <td>Y</td>\n",
       "    </tr>\n",
       "    <tr>\n",
       "      <th>4</th>\n",
       "      <td>F</td>\n",
       "      <td>Y</td>\n",
       "      <td>N</td>\n",
       "    </tr>\n",
       "    <tr>\n",
       "      <th>...</th>\n",
       "      <td>...</td>\n",
       "      <td>...</td>\n",
       "      <td>...</td>\n",
       "    </tr>\n",
       "    <tr>\n",
       "      <th>44548</th>\n",
       "      <td>M</td>\n",
       "      <td>Y</td>\n",
       "      <td>Y</td>\n",
       "    </tr>\n",
       "    <tr>\n",
       "      <th>44549</th>\n",
       "      <td>M</td>\n",
       "      <td>Y</td>\n",
       "      <td>Y</td>\n",
       "    </tr>\n",
       "    <tr>\n",
       "      <th>44550</th>\n",
       "      <td>M</td>\n",
       "      <td>Y</td>\n",
       "      <td>Y</td>\n",
       "    </tr>\n",
       "    <tr>\n",
       "      <th>44551</th>\n",
       "      <td>M</td>\n",
       "      <td>Y</td>\n",
       "      <td>Y</td>\n",
       "    </tr>\n",
       "    <tr>\n",
       "      <th>44552</th>\n",
       "      <td>M</td>\n",
       "      <td>Y</td>\n",
       "      <td>Y</td>\n",
       "    </tr>\n",
       "  </tbody>\n",
       "</table>\n",
       "<p>44552 rows × 3 columns</p>\n",
       "</div>"
      ],
      "text/plain": [
       "      gender oral tartar\n",
       "0          F    Y      Y\n",
       "1          F    Y      Y\n",
       "2          M    Y      N\n",
       "3          M    Y      Y\n",
       "4          F    Y      N\n",
       "...      ...  ...    ...\n",
       "44548      M    Y      Y\n",
       "44549      M    Y      Y\n",
       "44550      M    Y      Y\n",
       "44551      M    Y      Y\n",
       "44552      M    Y      Y\n",
       "\n",
       "[44552 rows x 3 columns]"
      ]
     },
     "execution_count": 111,
     "metadata": {},
     "output_type": "execute_result"
    }
   ],
   "source": [
    "# check the non number value on the dataset\n",
    "new_smoking_df.select_dtypes('object')"
   ]
  },
  {
   "cell_type": "code",
   "execution_count": 112,
   "id": "817f080d",
   "metadata": {},
   "outputs": [
    {
     "name": "stderr",
     "output_type": "stream",
     "text": [
      "/Users/gavinpayne/opt/anaconda3/envs/PythonData2/lib/python3.7/site-packages/ipykernel_launcher.py:2: SettingWithCopyWarning: \n",
      "A value is trying to be set on a copy of a slice from a DataFrame.\n",
      "Try using .loc[row_indexer,col_indexer] = value instead\n",
      "\n",
      "See the caveats in the documentation: https://pandas.pydata.org/pandas-docs/stable/user_guide/indexing.html#returning-a-view-versus-a-copy\n",
      "  \n",
      "/Users/gavinpayne/opt/anaconda3/envs/PythonData2/lib/python3.7/site-packages/ipykernel_launcher.py:3: SettingWithCopyWarning: \n",
      "A value is trying to be set on a copy of a slice from a DataFrame.\n",
      "Try using .loc[row_indexer,col_indexer] = value instead\n",
      "\n",
      "See the caveats in the documentation: https://pandas.pydata.org/pandas-docs/stable/user_guide/indexing.html#returning-a-view-versus-a-copy\n",
      "  This is separate from the ipykernel package so we can avoid doing imports until\n"
     ]
    }
   ],
   "source": [
    "# Change the categorical / non number value itu number so machine learning can understand it\n",
    "new_smoking_df['gender'] = new_smoking_df['gender'].str.replace('F','0')\n",
    "new_smoking_df['gender'] = new_smoking_df['gender'].str.replace('M','1')"
   ]
  },
  {
   "cell_type": "code",
   "execution_count": 113,
   "id": "5e11b4b7",
   "metadata": {},
   "outputs": [
    {
     "name": "stderr",
     "output_type": "stream",
     "text": [
      "/Users/gavinpayne/opt/anaconda3/envs/PythonData2/lib/python3.7/site-packages/ipykernel_launcher.py:1: SettingWithCopyWarning: \n",
      "A value is trying to be set on a copy of a slice from a DataFrame.\n",
      "Try using .loc[row_indexer,col_indexer] = value instead\n",
      "\n",
      "See the caveats in the documentation: https://pandas.pydata.org/pandas-docs/stable/user_guide/indexing.html#returning-a-view-versus-a-copy\n",
      "  \"\"\"Entry point for launching an IPython kernel.\n"
     ]
    }
   ],
   "source": [
    "new_smoking_df['gender'] = pd.to_numeric(new_smoking_df['gender'])"
   ]
  },
  {
   "cell_type": "code",
   "execution_count": 114,
   "id": "e4f0b944",
   "metadata": {},
   "outputs": [
    {
     "name": "stderr",
     "output_type": "stream",
     "text": [
      "/Users/gavinpayne/opt/anaconda3/envs/PythonData2/lib/python3.7/site-packages/ipykernel_launcher.py:1: SettingWithCopyWarning: \n",
      "A value is trying to be set on a copy of a slice from a DataFrame.\n",
      "Try using .loc[row_indexer,col_indexer] = value instead\n",
      "\n",
      "See the caveats in the documentation: https://pandas.pydata.org/pandas-docs/stable/user_guide/indexing.html#returning-a-view-versus-a-copy\n",
      "  \"\"\"Entry point for launching an IPython kernel.\n",
      "/Users/gavinpayne/opt/anaconda3/envs/PythonData2/lib/python3.7/site-packages/ipykernel_launcher.py:2: SettingWithCopyWarning: \n",
      "A value is trying to be set on a copy of a slice from a DataFrame.\n",
      "Try using .loc[row_indexer,col_indexer] = value instead\n",
      "\n",
      "See the caveats in the documentation: https://pandas.pydata.org/pandas-docs/stable/user_guide/indexing.html#returning-a-view-versus-a-copy\n",
      "  \n"
     ]
    }
   ],
   "source": [
    "new_smoking_df['tartar'] = new_smoking_df['tartar'].str.replace('N','0')\n",
    "new_smoking_df['tartar'] = new_smoking_df['tartar'].str.replace('Y','1')"
   ]
  },
  {
   "cell_type": "code",
   "execution_count": 115,
   "id": "4fed5dfc",
   "metadata": {},
   "outputs": [
    {
     "name": "stderr",
     "output_type": "stream",
     "text": [
      "/Users/gavinpayne/opt/anaconda3/envs/PythonData2/lib/python3.7/site-packages/ipykernel_launcher.py:1: SettingWithCopyWarning: \n",
      "A value is trying to be set on a copy of a slice from a DataFrame.\n",
      "Try using .loc[row_indexer,col_indexer] = value instead\n",
      "\n",
      "See the caveats in the documentation: https://pandas.pydata.org/pandas-docs/stable/user_guide/indexing.html#returning-a-view-versus-a-copy\n",
      "  \"\"\"Entry point for launching an IPython kernel.\n"
     ]
    }
   ],
   "source": [
    "new_smoking_df['tartar'] = pd.to_numeric(new_smoking_df['tartar'])"
   ]
  },
  {
   "cell_type": "code",
   "execution_count": 116,
   "id": "ee620b7f",
   "metadata": {},
   "outputs": [
    {
     "name": "stderr",
     "output_type": "stream",
     "text": [
      "/Users/gavinpayne/opt/anaconda3/envs/PythonData2/lib/python3.7/site-packages/ipykernel_launcher.py:1: SettingWithCopyWarning: \n",
      "A value is trying to be set on a copy of a slice from a DataFrame.\n",
      "Try using .loc[row_indexer,col_indexer] = value instead\n",
      "\n",
      "See the caveats in the documentation: https://pandas.pydata.org/pandas-docs/stable/user_guide/indexing.html#returning-a-view-versus-a-copy\n",
      "  \"\"\"Entry point for launching an IPython kernel.\n",
      "/Users/gavinpayne/opt/anaconda3/envs/PythonData2/lib/python3.7/site-packages/ipykernel_launcher.py:2: SettingWithCopyWarning: \n",
      "A value is trying to be set on a copy of a slice from a DataFrame.\n",
      "Try using .loc[row_indexer,col_indexer] = value instead\n",
      "\n",
      "See the caveats in the documentation: https://pandas.pydata.org/pandas-docs/stable/user_guide/indexing.html#returning-a-view-versus-a-copy\n",
      "  \n"
     ]
    }
   ],
   "source": [
    "new_smoking_df['oral'] = new_smoking_df['oral'].str.replace('N','0')\n",
    "new_smoking_df['oral'] = new_smoking_df['oral'].str.replace('Y','1')"
   ]
  },
  {
   "cell_type": "code",
   "execution_count": 117,
   "id": "34aad667",
   "metadata": {},
   "outputs": [
    {
     "name": "stderr",
     "output_type": "stream",
     "text": [
      "/Users/gavinpayne/opt/anaconda3/envs/PythonData2/lib/python3.7/site-packages/ipykernel_launcher.py:1: SettingWithCopyWarning: \n",
      "A value is trying to be set on a copy of a slice from a DataFrame.\n",
      "Try using .loc[row_indexer,col_indexer] = value instead\n",
      "\n",
      "See the caveats in the documentation: https://pandas.pydata.org/pandas-docs/stable/user_guide/indexing.html#returning-a-view-versus-a-copy\n",
      "  \"\"\"Entry point for launching an IPython kernel.\n"
     ]
    }
   ],
   "source": [
    "new_smoking_df['oral'] = pd.to_numeric(new_smoking_df['oral'])"
   ]
  },
  {
   "cell_type": "code",
   "execution_count": 118,
   "id": "0ef1dffb",
   "metadata": {},
   "outputs": [
    {
     "name": "stderr",
     "output_type": "stream",
     "text": [
      "/Users/gavinpayne/opt/anaconda3/envs/PythonData2/lib/python3.7/site-packages/pandas/core/frame.py:4315: SettingWithCopyWarning: \n",
      "A value is trying to be set on a copy of a slice from a DataFrame\n",
      "\n",
      "See the caveats in the documentation: https://pandas.pydata.org/pandas-docs/stable/user_guide/indexing.html#returning-a-view-versus-a-copy\n",
      "  errors=errors,\n"
     ]
    }
   ],
   "source": [
    "# Dropping ID column as it is not needed (all value is pointing to 1 so its redundant)\n",
    "new_smoking_df.drop('oral',axis=1,inplace=True)"
   ]
  },
  {
   "cell_type": "code",
   "execution_count": 119,
   "id": "a033a4c2",
   "metadata": {},
   "outputs": [
    {
     "data": {
      "text/html": [
       "<div>\n",
       "<style scoped>\n",
       "    .dataframe tbody tr th:only-of-type {\n",
       "        vertical-align: middle;\n",
       "    }\n",
       "\n",
       "    .dataframe tbody tr th {\n",
       "        vertical-align: top;\n",
       "    }\n",
       "\n",
       "    .dataframe thead th {\n",
       "        text-align: right;\n",
       "    }\n",
       "</style>\n",
       "<table border=\"1\" class=\"dataframe\">\n",
       "  <thead>\n",
       "    <tr style=\"text-align: right;\">\n",
       "      <th></th>\n",
       "      <th>gender</th>\n",
       "      <th>age</th>\n",
       "      <th>height(cm)</th>\n",
       "      <th>weight(kg)</th>\n",
       "      <th>waist(cm)</th>\n",
       "      <th>eyesight(left)</th>\n",
       "      <th>eyesight(right)</th>\n",
       "      <th>hearing(left)</th>\n",
       "      <th>hearing(right)</th>\n",
       "      <th>systolic</th>\n",
       "      <th>...</th>\n",
       "      <th>LDL</th>\n",
       "      <th>hemoglobin</th>\n",
       "      <th>Urine protein</th>\n",
       "      <th>serum creatinine</th>\n",
       "      <th>AST</th>\n",
       "      <th>ALT</th>\n",
       "      <th>Gtp</th>\n",
       "      <th>dental caries</th>\n",
       "      <th>tartar</th>\n",
       "      <th>smoking</th>\n",
       "    </tr>\n",
       "  </thead>\n",
       "  <tbody>\n",
       "    <tr>\n",
       "      <th>0</th>\n",
       "      <td>0</td>\n",
       "      <td>40</td>\n",
       "      <td>155</td>\n",
       "      <td>60</td>\n",
       "      <td>81.3</td>\n",
       "      <td>1.2</td>\n",
       "      <td>1.0</td>\n",
       "      <td>1.0</td>\n",
       "      <td>1.0</td>\n",
       "      <td>114.0</td>\n",
       "      <td>...</td>\n",
       "      <td>126.0</td>\n",
       "      <td>12.9</td>\n",
       "      <td>1.0</td>\n",
       "      <td>0.7</td>\n",
       "      <td>18.0</td>\n",
       "      <td>19.0</td>\n",
       "      <td>27.0</td>\n",
       "      <td>0</td>\n",
       "      <td>1</td>\n",
       "      <td>0</td>\n",
       "    </tr>\n",
       "    <tr>\n",
       "      <th>1</th>\n",
       "      <td>0</td>\n",
       "      <td>40</td>\n",
       "      <td>160</td>\n",
       "      <td>60</td>\n",
       "      <td>81.0</td>\n",
       "      <td>0.8</td>\n",
       "      <td>0.6</td>\n",
       "      <td>1.0</td>\n",
       "      <td>1.0</td>\n",
       "      <td>119.0</td>\n",
       "      <td>...</td>\n",
       "      <td>127.0</td>\n",
       "      <td>12.7</td>\n",
       "      <td>1.0</td>\n",
       "      <td>0.6</td>\n",
       "      <td>22.0</td>\n",
       "      <td>19.0</td>\n",
       "      <td>18.0</td>\n",
       "      <td>0</td>\n",
       "      <td>1</td>\n",
       "      <td>0</td>\n",
       "    </tr>\n",
       "    <tr>\n",
       "      <th>2</th>\n",
       "      <td>1</td>\n",
       "      <td>55</td>\n",
       "      <td>170</td>\n",
       "      <td>60</td>\n",
       "      <td>80.0</td>\n",
       "      <td>0.8</td>\n",
       "      <td>0.8</td>\n",
       "      <td>1.0</td>\n",
       "      <td>1.0</td>\n",
       "      <td>138.0</td>\n",
       "      <td>...</td>\n",
       "      <td>151.0</td>\n",
       "      <td>15.8</td>\n",
       "      <td>1.0</td>\n",
       "      <td>1.0</td>\n",
       "      <td>21.0</td>\n",
       "      <td>16.0</td>\n",
       "      <td>22.0</td>\n",
       "      <td>0</td>\n",
       "      <td>0</td>\n",
       "      <td>1</td>\n",
       "    </tr>\n",
       "    <tr>\n",
       "      <th>3</th>\n",
       "      <td>1</td>\n",
       "      <td>40</td>\n",
       "      <td>165</td>\n",
       "      <td>70</td>\n",
       "      <td>88.0</td>\n",
       "      <td>1.5</td>\n",
       "      <td>1.5</td>\n",
       "      <td>1.0</td>\n",
       "      <td>1.0</td>\n",
       "      <td>100.0</td>\n",
       "      <td>...</td>\n",
       "      <td>226.0</td>\n",
       "      <td>14.7</td>\n",
       "      <td>1.0</td>\n",
       "      <td>1.0</td>\n",
       "      <td>19.0</td>\n",
       "      <td>26.0</td>\n",
       "      <td>18.0</td>\n",
       "      <td>0</td>\n",
       "      <td>1</td>\n",
       "      <td>0</td>\n",
       "    </tr>\n",
       "    <tr>\n",
       "      <th>4</th>\n",
       "      <td>0</td>\n",
       "      <td>40</td>\n",
       "      <td>155</td>\n",
       "      <td>60</td>\n",
       "      <td>86.0</td>\n",
       "      <td>1.0</td>\n",
       "      <td>1.0</td>\n",
       "      <td>1.0</td>\n",
       "      <td>1.0</td>\n",
       "      <td>120.0</td>\n",
       "      <td>...</td>\n",
       "      <td>107.0</td>\n",
       "      <td>12.5</td>\n",
       "      <td>1.0</td>\n",
       "      <td>0.6</td>\n",
       "      <td>16.0</td>\n",
       "      <td>14.0</td>\n",
       "      <td>22.0</td>\n",
       "      <td>0</td>\n",
       "      <td>0</td>\n",
       "      <td>0</td>\n",
       "    </tr>\n",
       "    <tr>\n",
       "      <th>...</th>\n",
       "      <td>...</td>\n",
       "      <td>...</td>\n",
       "      <td>...</td>\n",
       "      <td>...</td>\n",
       "      <td>...</td>\n",
       "      <td>...</td>\n",
       "      <td>...</td>\n",
       "      <td>...</td>\n",
       "      <td>...</td>\n",
       "      <td>...</td>\n",
       "      <td>...</td>\n",
       "      <td>...</td>\n",
       "      <td>...</td>\n",
       "      <td>...</td>\n",
       "      <td>...</td>\n",
       "      <td>...</td>\n",
       "      <td>...</td>\n",
       "      <td>...</td>\n",
       "      <td>...</td>\n",
       "      <td>...</td>\n",
       "      <td>...</td>\n",
       "    </tr>\n",
       "    <tr>\n",
       "      <th>44548</th>\n",
       "      <td>1</td>\n",
       "      <td>50</td>\n",
       "      <td>170</td>\n",
       "      <td>65</td>\n",
       "      <td>88.0</td>\n",
       "      <td>1.2</td>\n",
       "      <td>1.2</td>\n",
       "      <td>1.0</td>\n",
       "      <td>1.0</td>\n",
       "      <td>148.0</td>\n",
       "      <td>...</td>\n",
       "      <td>108.0</td>\n",
       "      <td>15.2</td>\n",
       "      <td>1.0</td>\n",
       "      <td>1.0</td>\n",
       "      <td>45.0</td>\n",
       "      <td>49.0</td>\n",
       "      <td>51.0</td>\n",
       "      <td>0</td>\n",
       "      <td>1</td>\n",
       "      <td>0</td>\n",
       "    </tr>\n",
       "    <tr>\n",
       "      <th>44549</th>\n",
       "      <td>1</td>\n",
       "      <td>35</td>\n",
       "      <td>175</td>\n",
       "      <td>70</td>\n",
       "      <td>84.0</td>\n",
       "      <td>0.6</td>\n",
       "      <td>0.7</td>\n",
       "      <td>1.0</td>\n",
       "      <td>1.0</td>\n",
       "      <td>105.0</td>\n",
       "      <td>...</td>\n",
       "      <td>118.0</td>\n",
       "      <td>15.2</td>\n",
       "      <td>1.0</td>\n",
       "      <td>0.9</td>\n",
       "      <td>20.0</td>\n",
       "      <td>14.0</td>\n",
       "      <td>16.0</td>\n",
       "      <td>0</td>\n",
       "      <td>1</td>\n",
       "      <td>0</td>\n",
       "    </tr>\n",
       "    <tr>\n",
       "      <th>44550</th>\n",
       "      <td>1</td>\n",
       "      <td>35</td>\n",
       "      <td>175</td>\n",
       "      <td>70</td>\n",
       "      <td>70.9</td>\n",
       "      <td>1.5</td>\n",
       "      <td>1.5</td>\n",
       "      <td>1.0</td>\n",
       "      <td>1.0</td>\n",
       "      <td>116.0</td>\n",
       "      <td>...</td>\n",
       "      <td>92.0</td>\n",
       "      <td>13.4</td>\n",
       "      <td>1.0</td>\n",
       "      <td>1.0</td>\n",
       "      <td>18.0</td>\n",
       "      <td>19.0</td>\n",
       "      <td>10.0</td>\n",
       "      <td>0</td>\n",
       "      <td>1</td>\n",
       "      <td>0</td>\n",
       "    </tr>\n",
       "    <tr>\n",
       "      <th>44551</th>\n",
       "      <td>1</td>\n",
       "      <td>50</td>\n",
       "      <td>165</td>\n",
       "      <td>90</td>\n",
       "      <td>106.8</td>\n",
       "      <td>0.8</td>\n",
       "      <td>0.5</td>\n",
       "      <td>1.0</td>\n",
       "      <td>1.0</td>\n",
       "      <td>122.0</td>\n",
       "      <td>...</td>\n",
       "      <td>104.0</td>\n",
       "      <td>14.5</td>\n",
       "      <td>1.0</td>\n",
       "      <td>0.9</td>\n",
       "      <td>30.0</td>\n",
       "      <td>49.0</td>\n",
       "      <td>40.0</td>\n",
       "      <td>0</td>\n",
       "      <td>1</td>\n",
       "      <td>1</td>\n",
       "    </tr>\n",
       "    <tr>\n",
       "      <th>44552</th>\n",
       "      <td>1</td>\n",
       "      <td>25</td>\n",
       "      <td>175</td>\n",
       "      <td>80</td>\n",
       "      <td>93.2</td>\n",
       "      <td>1.2</td>\n",
       "      <td>1.5</td>\n",
       "      <td>1.0</td>\n",
       "      <td>1.0</td>\n",
       "      <td>124.0</td>\n",
       "      <td>...</td>\n",
       "      <td>138.0</td>\n",
       "      <td>11.4</td>\n",
       "      <td>1.0</td>\n",
       "      <td>1.0</td>\n",
       "      <td>23.0</td>\n",
       "      <td>11.0</td>\n",
       "      <td>20.0</td>\n",
       "      <td>0</td>\n",
       "      <td>1</td>\n",
       "      <td>0</td>\n",
       "    </tr>\n",
       "  </tbody>\n",
       "</table>\n",
       "<p>44552 rows × 25 columns</p>\n",
       "</div>"
      ],
      "text/plain": [
       "       gender  age  height(cm)  weight(kg)  waist(cm)  eyesight(left)  \\\n",
       "0           0   40         155          60       81.3             1.2   \n",
       "1           0   40         160          60       81.0             0.8   \n",
       "2           1   55         170          60       80.0             0.8   \n",
       "3           1   40         165          70       88.0             1.5   \n",
       "4           0   40         155          60       86.0             1.0   \n",
       "...       ...  ...         ...         ...        ...             ...   \n",
       "44548       1   50         170          65       88.0             1.2   \n",
       "44549       1   35         175          70       84.0             0.6   \n",
       "44550       1   35         175          70       70.9             1.5   \n",
       "44551       1   50         165          90      106.8             0.8   \n",
       "44552       1   25         175          80       93.2             1.2   \n",
       "\n",
       "       eyesight(right)  hearing(left)  hearing(right)  systolic  ...    LDL  \\\n",
       "0                  1.0            1.0             1.0     114.0  ...  126.0   \n",
       "1                  0.6            1.0             1.0     119.0  ...  127.0   \n",
       "2                  0.8            1.0             1.0     138.0  ...  151.0   \n",
       "3                  1.5            1.0             1.0     100.0  ...  226.0   \n",
       "4                  1.0            1.0             1.0     120.0  ...  107.0   \n",
       "...                ...            ...             ...       ...  ...    ...   \n",
       "44548              1.2            1.0             1.0     148.0  ...  108.0   \n",
       "44549              0.7            1.0             1.0     105.0  ...  118.0   \n",
       "44550              1.5            1.0             1.0     116.0  ...   92.0   \n",
       "44551              0.5            1.0             1.0     122.0  ...  104.0   \n",
       "44552              1.5            1.0             1.0     124.0  ...  138.0   \n",
       "\n",
       "       hemoglobin  Urine protein  serum creatinine   AST   ALT   Gtp  \\\n",
       "0            12.9            1.0               0.7  18.0  19.0  27.0   \n",
       "1            12.7            1.0               0.6  22.0  19.0  18.0   \n",
       "2            15.8            1.0               1.0  21.0  16.0  22.0   \n",
       "3            14.7            1.0               1.0  19.0  26.0  18.0   \n",
       "4            12.5            1.0               0.6  16.0  14.0  22.0   \n",
       "...           ...            ...               ...   ...   ...   ...   \n",
       "44548        15.2            1.0               1.0  45.0  49.0  51.0   \n",
       "44549        15.2            1.0               0.9  20.0  14.0  16.0   \n",
       "44550        13.4            1.0               1.0  18.0  19.0  10.0   \n",
       "44551        14.5            1.0               0.9  30.0  49.0  40.0   \n",
       "44552        11.4            1.0               1.0  23.0  11.0  20.0   \n",
       "\n",
       "       dental caries  tartar  smoking  \n",
       "0                  0       1        0  \n",
       "1                  0       1        0  \n",
       "2                  0       0        1  \n",
       "3                  0       1        0  \n",
       "4                  0       0        0  \n",
       "...              ...     ...      ...  \n",
       "44548              0       1        0  \n",
       "44549              0       1        0  \n",
       "44550              0       1        0  \n",
       "44551              0       1        1  \n",
       "44552              0       1        0  \n",
       "\n",
       "[44552 rows x 25 columns]"
      ]
     },
     "execution_count": 119,
     "metadata": {},
     "output_type": "execute_result"
    }
   ],
   "source": [
    "new_smoking_df"
   ]
  },
  {
   "cell_type": "code",
   "execution_count": 120,
   "id": "7d7d860b",
   "metadata": {},
   "outputs": [
    {
     "data": {
      "text/plain": [
       "gender                   int64\n",
       "age                      int64\n",
       "height(cm)               int64\n",
       "weight(kg)               int64\n",
       "waist(cm)              float64\n",
       "eyesight(left)         float64\n",
       "eyesight(right)        float64\n",
       "hearing(left)          float64\n",
       "hearing(right)         float64\n",
       "systolic               float64\n",
       "relaxation             float64\n",
       "fasting blood sugar    float64\n",
       "Cholesterol            float64\n",
       "triglyceride           float64\n",
       "HDL                    float64\n",
       "LDL                    float64\n",
       "hemoglobin             float64\n",
       "Urine protein          float64\n",
       "serum creatinine       float64\n",
       "AST                    float64\n",
       "ALT                    float64\n",
       "Gtp                    float64\n",
       "dental caries            int64\n",
       "tartar                   int64\n",
       "smoking                  int64\n",
       "dtype: object"
      ]
     },
     "execution_count": 120,
     "metadata": {},
     "output_type": "execute_result"
    }
   ],
   "source": [
    "new_smoking_df.dtypes"
   ]
  },
  {
   "cell_type": "code",
   "execution_count": 121,
   "id": "18ac0f30",
   "metadata": {},
   "outputs": [],
   "source": [
    "# Split our preprocessed data into our features and target arrays\n",
    "y = new_smoking_df[\"smoking\"]\n",
    "X = new_smoking_df.drop([\"smoking\"],axis = 1)\n",
    "\n",
    "# Split the preprocessed data into a training and testing dataset\n",
    "X_train, X_test, y_train, y_test = train_test_split(X, y, test_size=0.25, random_state=42)"
   ]
  },
  {
   "cell_type": "code",
   "execution_count": 122,
   "id": "40c9b6e2",
   "metadata": {},
   "outputs": [],
   "source": [
    "# Create a StandardScaler instances\n",
    "# scaler = StandardScaler()\n",
    "\n",
    "# # Fit the StandardScaler\n",
    "# X_scaler = scaler.fit(X_train)\n",
    "\n",
    "# # Scale the data\n",
    "# X_train_scaled = X_scaler.transform(X_train)\n",
    "# X_test_scaled = X_scaler.transform(X_test)\n",
    "\n",
    "# scaler = MinMaxScaler()\n",
    "# scaler.fit(X_train)\n",
    "# X_train_scaled = scaler.transform(X_train)\n",
    "# X_test_scaled = scaler.transform(X_test)"
   ]
  },
  {
   "cell_type": "code",
   "execution_count": 123,
   "id": "8fae9b11",
   "metadata": {},
   "outputs": [
    {
     "name": "stdout",
     "output_type": "stream",
     "text": [
      "Score the X-train with y-train is :  0.8133117854791405\n",
      "Score the X-test  with y-test  is :  0.7184413718800503\n",
      "Accuracy Score : 71.84413718800504\n",
      "Confusion Matrix :\n"
     ]
    },
    {
     "data": {
      "text/html": [
       "<div>\n",
       "<style scoped>\n",
       "    .dataframe tbody tr th:only-of-type {\n",
       "        vertical-align: middle;\n",
       "    }\n",
       "\n",
       "    .dataframe tbody tr th {\n",
       "        vertical-align: top;\n",
       "    }\n",
       "\n",
       "    .dataframe thead th {\n",
       "        text-align: right;\n",
       "    }\n",
       "</style>\n",
       "<table border=\"1\" class=\"dataframe\">\n",
       "  <thead>\n",
       "    <tr style=\"text-align: right;\">\n",
       "      <th></th>\n",
       "      <th>Predicted 0</th>\n",
       "      <th>Predicted 1</th>\n",
       "    </tr>\n",
       "  </thead>\n",
       "  <tbody>\n",
       "    <tr>\n",
       "      <th>Actual 0</th>\n",
       "      <td>5532</td>\n",
       "      <td>1541</td>\n",
       "    </tr>\n",
       "    <tr>\n",
       "      <th>Actual 1</th>\n",
       "      <td>1595</td>\n",
       "      <td>2470</td>\n",
       "    </tr>\n",
       "  </tbody>\n",
       "</table>\n",
       "</div>"
      ],
      "text/plain": [
       "          Predicted 0  Predicted 1\n",
       "Actual 0         5532         1541\n",
       "Actual 1         1595         2470"
      ]
     },
     "metadata": {},
     "output_type": "display_data"
    },
    {
     "name": "stdout",
     "output_type": "stream",
     "text": [
      "Classification Report :\n",
      "              precision    recall  f1-score   support\n",
      "\n",
      "           0       0.78      0.78      0.78      7073\n",
      "           1       0.62      0.61      0.61      4065\n",
      "\n",
      "    accuracy                           0.72     11138\n",
      "   macro avg       0.70      0.69      0.70     11138\n",
      "weighted avg       0.72      0.72      0.72     11138\n",
      "\n"
     ]
    }
   ],
   "source": [
    "DTC = DecisionTreeClassifier(max_depth=15, min_samples_split=50, min_samples_leaf=10)\n",
    "DTC.fit(X_train, y_train)\n",
    "\n",
    "DTC_y_pred = DTC.predict(X_test)\n",
    "\n",
    "DTC_cm = confusion_matrix(y_test, DTC_y_pred)\n",
    "DTC_cm_df = pd.DataFrame(\n",
    "    DTC_cm, index=[\"Actual 0\", \"Actual 1\"], columns=[\"Predicted 0\", \"Predicted 1\"]\n",
    ")\n",
    "\n",
    "print(\"Score the X-train with y-train is : \", DTC.score(X_train,y_train))\n",
    "print(\"Score the X-test  with y-test  is : \", DTC.score(X_test,y_test))\n",
    "print(\"Accuracy Score :\",accuracy_score(y_test,DTC_y_pred)*100)\n",
    "DTCv = accuracy_score(y_test,DTC_y_pred)\n",
    "print(\"Confusion Matrix :\")\n",
    "display(DTC_cm_df)\n",
    "print(\"Classification Report :\")\n",
    "print(classification_report(y_test, DTC_y_pred))"
   ]
  },
  {
   "cell_type": "code",
   "execution_count": 124,
   "id": "59eaf87e",
   "metadata": {},
   "outputs": [
    {
     "name": "stdout",
     "output_type": "stream",
     "text": [
      "Accuracy for selected tree model: 0.7190698509606752\n"
     ]
    }
   ],
   "source": [
    "# decision tree classifier test 2\n",
    "tree_classifier = tree.DecisionTreeClassifier(max_depth=15, min_samples_split=50, min_samples_leaf=10).fit(X_train, y_train)\n",
    "print(f\"Accuracy for selected tree model: {metrics.accuracy_score(y_test, tree_classifier.predict(X_test))}\")"
   ]
  },
  {
   "cell_type": "code",
   "execution_count": 125,
   "id": "ba33644e",
   "metadata": {},
   "outputs": [
    {
     "name": "stdout",
     "output_type": "stream",
     "text": [
      "Score the X-train with y-train is :  0.7902675525228946\n",
      "Score the X-test  with y-test  is :  0.7601903393787035\n",
      "Accuracy Score : 76.01903393787035\n",
      "Confusion Matrix :\n"
     ]
    },
    {
     "data": {
      "text/html": [
       "<div>\n",
       "<style scoped>\n",
       "    .dataframe tbody tr th:only-of-type {\n",
       "        vertical-align: middle;\n",
       "    }\n",
       "\n",
       "    .dataframe tbody tr th {\n",
       "        vertical-align: top;\n",
       "    }\n",
       "\n",
       "    .dataframe thead th {\n",
       "        text-align: right;\n",
       "    }\n",
       "</style>\n",
       "<table border=\"1\" class=\"dataframe\">\n",
       "  <thead>\n",
       "    <tr style=\"text-align: right;\">\n",
       "      <th></th>\n",
       "      <th>Predicted 0</th>\n",
       "      <th>Predicted 1</th>\n",
       "    </tr>\n",
       "  </thead>\n",
       "  <tbody>\n",
       "    <tr>\n",
       "      <th>Actual 0</th>\n",
       "      <td>5585</td>\n",
       "      <td>1488</td>\n",
       "    </tr>\n",
       "    <tr>\n",
       "      <th>Actual 1</th>\n",
       "      <td>1183</td>\n",
       "      <td>2882</td>\n",
       "    </tr>\n",
       "  </tbody>\n",
       "</table>\n",
       "</div>"
      ],
      "text/plain": [
       "          Predicted 0  Predicted 1\n",
       "Actual 0         5585         1488\n",
       "Actual 1         1183         2882"
      ]
     },
     "metadata": {},
     "output_type": "display_data"
    },
    {
     "name": "stdout",
     "output_type": "stream",
     "text": [
      "Classification Report :\n",
      "              precision    recall  f1-score   support\n",
      "\n",
      "           0       0.83      0.79      0.81      7073\n",
      "           1       0.66      0.71      0.68      4065\n",
      "\n",
      "    accuracy                           0.76     11138\n",
      "   macro avg       0.74      0.75      0.75     11138\n",
      "weighted avg       0.76      0.76      0.76     11138\n",
      "\n"
     ]
    }
   ],
   "source": [
    "# Random Forest Classifier test\n",
    "RFC = RandomForestClassifier(n_estimators=100, max_depth=15, min_samples_split=5, min_samples_leaf=45)\n",
    "RFC.fit(X_train, y_train)\n",
    " \n",
    "RFC_y_pred = RFC.predict(X_test)\n",
    "\n",
    "RFC_cm = confusion_matrix(y_test, RFC_y_pred)\n",
    "RFC_cm_df = pd.DataFrame(\n",
    "    RFC_cm, index=[\"Actual 0\", \"Actual 1\"], columns=[\"Predicted 0\", \"Predicted 1\"]\n",
    ")\n",
    "\n",
    "print(\"Score the X-train with y-train is : \", RFC.score(X_train,y_train))\n",
    "print(\"Score the X-test  with y-test  is : \", RFC.score(X_test,y_test))\n",
    "print(\"Accuracy Score :\",accuracy_score(y_test,RFC_y_pred)*100)\n",
    "RFCv = accuracy_score(y_test,RFC_y_pred)\n",
    "print(\"Confusion Matrix :\")\n",
    "display(RFC_cm_df)\n",
    "print(\"Classification Report :\")\n",
    "print(classification_report(y_test, RFC_y_pred))"
   ]
  },
  {
   "cell_type": "code",
   "execution_count": 128,
   "id": "69a0f3b7",
   "metadata": {},
   "outputs": [
    {
     "name": "stdout",
     "output_type": "stream",
     "text": [
      "Score the X-train with y-train is :  0.7729993415933442\n",
      "Score the X-test  with y-test  is :  0.761716645717364\n",
      "Accuracy Score : 76.1716645717364\n",
      "Confusion Matrix :\n"
     ]
    },
    {
     "data": {
      "text/html": [
       "<div>\n",
       "<style scoped>\n",
       "    .dataframe tbody tr th:only-of-type {\n",
       "        vertical-align: middle;\n",
       "    }\n",
       "\n",
       "    .dataframe tbody tr th {\n",
       "        vertical-align: top;\n",
       "    }\n",
       "\n",
       "    .dataframe thead th {\n",
       "        text-align: right;\n",
       "    }\n",
       "</style>\n",
       "<table border=\"1\" class=\"dataframe\">\n",
       "  <thead>\n",
       "    <tr style=\"text-align: right;\">\n",
       "      <th></th>\n",
       "      <th>Predicted 0</th>\n",
       "      <th>Predicted 1</th>\n",
       "    </tr>\n",
       "  </thead>\n",
       "  <tbody>\n",
       "    <tr>\n",
       "      <th>Actual 0</th>\n",
       "      <td>5562</td>\n",
       "      <td>1511</td>\n",
       "    </tr>\n",
       "    <tr>\n",
       "      <th>Actual 1</th>\n",
       "      <td>1143</td>\n",
       "      <td>2922</td>\n",
       "    </tr>\n",
       "  </tbody>\n",
       "</table>\n",
       "</div>"
      ],
      "text/plain": [
       "          Predicted 0  Predicted 1\n",
       "Actual 0         5562         1511\n",
       "Actual 1         1143         2922"
      ]
     },
     "metadata": {},
     "output_type": "display_data"
    },
    {
     "name": "stdout",
     "output_type": "stream",
     "text": [
      "Classification Report :\n",
      "              precision    recall  f1-score   support\n",
      "\n",
      "           0       0.83      0.79      0.81      7073\n",
      "           1       0.66      0.72      0.69      4065\n",
      "\n",
      "    accuracy                           0.76     11138\n",
      "   macro avg       0.74      0.75      0.75     11138\n",
      "weighted avg       0.77      0.76      0.76     11138\n",
      "\n"
     ]
    }
   ],
   "source": [
    "# Train an XGBoost classifier\n",
    "XGB = XGBClassifier(max_depth=3, n_estimators=100, learning_rate=0.1)\n",
    "XGB.fit(X_train, y_train)\n",
    "\n",
    "XGB_y_pred = XGB.predict(X_test)\n",
    "\n",
    "XGB_cm = confusion_matrix(y_test, XGB_y_pred)\n",
    "XGB_cm_df = pd.DataFrame(\n",
    "    XGB_cm, index=[\"Actual 0\", \"Actual 1\"], columns=[\"Predicted 0\", \"Predicted 1\"]\n",
    ")\n",
    "\n",
    "print(\"Score the X-train with y-train is : \", XGB.score(X_train,y_train))\n",
    "print(\"Score the X-test  with y-test  is : \", XGB.score(X_test,y_test))\n",
    "print(\"Accuracy Score :\",accuracy_score(y_test,XGB_y_pred)*100)\n",
    "XGBv = accuracy_score(y_test,XGB_y_pred)\n",
    "print(\"Confusion Matrix :\")\n",
    "display(XGB_cm_df)\n",
    "print(\"Classification Report :\")\n",
    "print(classification_report(y_test, XGB_y_pred))"
   ]
  },
  {
   "cell_type": "code",
   "execution_count": 129,
   "id": "5a7da053",
   "metadata": {},
   "outputs": [
    {
     "name": "stdout",
     "output_type": "stream",
     "text": [
      "Score the X-train with y-train is :  0.7712934698030766\n",
      "Score the X-test  with y-test  is :  0.762524690249596\n",
      "Accuracy Score : 76.2524690249596\n",
      "Confusion Matrix :\n"
     ]
    },
    {
     "data": {
      "text/html": [
       "<div>\n",
       "<style scoped>\n",
       "    .dataframe tbody tr th:only-of-type {\n",
       "        vertical-align: middle;\n",
       "    }\n",
       "\n",
       "    .dataframe tbody tr th {\n",
       "        vertical-align: top;\n",
       "    }\n",
       "\n",
       "    .dataframe thead th {\n",
       "        text-align: right;\n",
       "    }\n",
       "</style>\n",
       "<table border=\"1\" class=\"dataframe\">\n",
       "  <thead>\n",
       "    <tr style=\"text-align: right;\">\n",
       "      <th></th>\n",
       "      <th>Predicted 0</th>\n",
       "      <th>Predicted 1</th>\n",
       "    </tr>\n",
       "  </thead>\n",
       "  <tbody>\n",
       "    <tr>\n",
       "      <th>Actual 0</th>\n",
       "      <td>5591</td>\n",
       "      <td>1482</td>\n",
       "    </tr>\n",
       "    <tr>\n",
       "      <th>Actual 1</th>\n",
       "      <td>1163</td>\n",
       "      <td>2902</td>\n",
       "    </tr>\n",
       "  </tbody>\n",
       "</table>\n",
       "</div>"
      ],
      "text/plain": [
       "          Predicted 0  Predicted 1\n",
       "Actual 0         5591         1482\n",
       "Actual 1         1163         2902"
      ]
     },
     "metadata": {},
     "output_type": "display_data"
    },
    {
     "name": "stdout",
     "output_type": "stream",
     "text": [
      "Classification Report :\n",
      "              precision    recall  f1-score   support\n",
      "\n",
      "           0       0.83      0.79      0.81      7073\n",
      "           1       0.66      0.71      0.69      4065\n",
      "\n",
      "    accuracy                           0.76     11138\n",
      "   macro avg       0.74      0.75      0.75     11138\n",
      "weighted avg       0.77      0.76      0.76     11138\n",
      "\n"
     ]
    }
   ],
   "source": [
    "# Train an Gradientboosting classifier\n",
    "\n",
    "GB = GradientBoostingClassifier(max_depth=3, n_estimators=100, learning_rate=0.1)\n",
    "GB.fit(X_train, y_train)\n",
    "\n",
    "GB_y_pred = GB.predict(X_test)\n",
    "\n",
    "GB_cm = confusion_matrix(y_test, GB_y_pred)\n",
    "GB_cm_df = pd.DataFrame(\n",
    "    GB_cm, index=[\"Actual 0\", \"Actual 1\"], columns=[\"Predicted 0\", \"Predicted 1\"]\n",
    ")\n",
    "\n",
    "print(\"Score the X-train with y-train is : \", GB.score(X_train,y_train))\n",
    "print(\"Score the X-test  with y-test  is : \", GB.score(X_test,y_test))\n",
    "print(\"Accuracy Score :\",accuracy_score(y_test,GB_y_pred)*100)\n",
    "GBv = accuracy_score(y_test,GB_y_pred)\n",
    "print(\"Confusion Matrix :\")\n",
    "display(GB_cm_df)\n",
    "print(\"Classification Report :\")\n",
    "print(classification_report(y_test, GB_y_pred))"
   ]
  },
  {
   "cell_type": "code",
   "execution_count": 130,
   "id": "3ea2edc4",
   "metadata": {},
   "outputs": [
    {
     "name": "stdout",
     "output_type": "stream",
     "text": [
      "Score the X-train with y-train is :  0.7339139282935296\n",
      "Score the X-test  with y-test  is :  0.7388220506374573\n",
      "Accuracy Score : 73.88220506374573\n",
      "Confusion Matrix :\n"
     ]
    },
    {
     "name": "stderr",
     "output_type": "stream",
     "text": [
      "/Users/gavinpayne/opt/anaconda3/envs/PythonData2/lib/python3.7/site-packages/sklearn/linear_model/_logistic.py:765: ConvergenceWarning: lbfgs failed to converge (status=1):\n",
      "STOP: TOTAL NO. of ITERATIONS REACHED LIMIT.\n",
      "\n",
      "Increase the number of iterations (max_iter) or scale the data as shown in:\n",
      "    https://scikit-learn.org/stable/modules/preprocessing.html\n",
      "Please also refer to the documentation for alternative solver options:\n",
      "    https://scikit-learn.org/stable/modules/linear_model.html#logistic-regression\n",
      "  extra_warning_msg=_LOGISTIC_SOLVER_CONVERGENCE_MSG)\n"
     ]
    },
    {
     "data": {
      "text/html": [
       "<div>\n",
       "<style scoped>\n",
       "    .dataframe tbody tr th:only-of-type {\n",
       "        vertical-align: middle;\n",
       "    }\n",
       "\n",
       "    .dataframe tbody tr th {\n",
       "        vertical-align: top;\n",
       "    }\n",
       "\n",
       "    .dataframe thead th {\n",
       "        text-align: right;\n",
       "    }\n",
       "</style>\n",
       "<table border=\"1\" class=\"dataframe\">\n",
       "  <thead>\n",
       "    <tr style=\"text-align: right;\">\n",
       "      <th></th>\n",
       "      <th>Predicted 0</th>\n",
       "      <th>Predicted 1</th>\n",
       "    </tr>\n",
       "  </thead>\n",
       "  <tbody>\n",
       "    <tr>\n",
       "      <th>Actual 0</th>\n",
       "      <td>5560</td>\n",
       "      <td>1513</td>\n",
       "    </tr>\n",
       "    <tr>\n",
       "      <th>Actual 1</th>\n",
       "      <td>1396</td>\n",
       "      <td>2669</td>\n",
       "    </tr>\n",
       "  </tbody>\n",
       "</table>\n",
       "</div>"
      ],
      "text/plain": [
       "          Predicted 0  Predicted 1\n",
       "Actual 0         5560         1513\n",
       "Actual 1         1396         2669"
      ]
     },
     "metadata": {},
     "output_type": "display_data"
    },
    {
     "name": "stdout",
     "output_type": "stream",
     "text": [
      "Classification Report :\n",
      "              precision    recall  f1-score   support\n",
      "\n",
      "           0       0.80      0.79      0.79      7073\n",
      "           1       0.64      0.66      0.65      4065\n",
      "\n",
      "    accuracy                           0.74     11138\n",
      "   macro avg       0.72      0.72      0.72     11138\n",
      "weighted avg       0.74      0.74      0.74     11138\n",
      "\n"
     ]
    }
   ],
   "source": [
    "# Train an Logistic Regression classifier\n",
    "# classifier = LogisticRegression(solver='lbfgs',max_iter=200,random_state=1)\n",
    "LG = LogisticRegression(solver='lbfgs',max_iter=200,random_state=1)\n",
    "LG.fit(X_train, y_train)\n",
    "\n",
    "LG_y_pred = LG.predict(X_test)\n",
    "\n",
    "LG_cm = confusion_matrix(y_test, LG_y_pred)\n",
    "LG_cm_df = pd.DataFrame(\n",
    "    LG_cm, index=[\"Actual 0\", \"Actual 1\"], columns=[\"Predicted 0\", \"Predicted 1\"]\n",
    ")\n",
    "\n",
    "print(\"Score the X-train with y-train is : \", LG.score(X_train,y_train))\n",
    "print(\"Score the X-test  with y-test  is : \", LG.score(X_test,y_test))\n",
    "print(\"Accuracy Score :\",accuracy_score(y_test,LG_y_pred)*100)\n",
    "LGv = accuracy_score(y_test,LG_y_pred)\n",
    "print(\"Confusion Matrix :\")\n",
    "display(LG_cm_df)\n",
    "print(\"Classification Report :\")\n",
    "print(classification_report(y_test, LG_y_pred))"
   ]
  },
  {
   "cell_type": "code",
   "execution_count": 131,
   "id": "dd06d58d",
   "metadata": {},
   "outputs": [],
   "source": [
    "# create a dictinary of all ML models\n",
    "dic = {'logistic Regression':LGv, 'Decision Tree Classifier':DTCv, 'Random Forest Classifier':RFCv, 'XGBoost':XGBv, 'GradientBoosting':GBv }"
   ]
  },
  {
   "cell_type": "code",
   "execution_count": 132,
   "id": "9ba0d914",
   "metadata": {},
   "outputs": [
    {
     "data": {
      "image/png": "[encoded data removed]",
      "text/plain": [
       "<Figure size 1080x576 with 1 Axes>"
      ]
     },
     "metadata": {},
     "output_type": "display_data"
    }
   ],
   "source": [
    "# Visualize all ML model accuracy score results\n",
    "names = list(dic.keys())\n",
    "values = list(dic.values())\n",
    "plt.rc('font', size=20)\n",
    "\n",
    "plt.figure(figsize=(15,8))\n",
    "plt.xlabel('Model name')\n",
    "plt.ylabel('Accuracy')\n",
    "\n",
    "bars = plt.bar(range(len(dic)), values, tick_label=names,color='pink')\n",
    "for bar, value in zip(bars, values):\n",
    "    plt.text(bar.get_x() + bar.get_width() / 2, bar.get_height() + 0.01, f'{value:.5f}', ha='center', va='bottom', fontsize=11)\n",
    "\n",
    "plt.show()"
   ]
  },
  {
   "cell_type": "code",
   "execution_count": 133,
   "id": "bd8bc066",
   "metadata": {},
   "outputs": [
    {
     "name": "stdout",
     "output_type": "stream",
     "text": [
      "10 best features: \n",
      "✅  gender\n",
      "✅  age\n",
      "✅  height(cm)\n",
      "✅  weight(kg)\n",
      "✅  waist(cm)\n",
      "✅  triglyceride\n",
      "✅  HDL\n",
      "✅  hemoglobin\n",
      "✅  serum creatinine\n",
      "✅  Gtp\n"
     ]
    }
   ],
   "source": [
    "from sklearn.feature_selection import SelectKBest, f_classif\n",
    "fs = SelectKBest(score_func=f_classif, k=10)\n",
    "X_train_new = fs.fit_transform(X_train, y_train)\n",
    "\n",
    "mask = fs.get_support(indices=True)\n",
    "\n",
    "print(\"10 best features: \")\n",
    "for i, col in enumerate(X_train.columns[mask]):\n",
    "    print(\"✅ \", col)"
   ]
  },
  {
   "cell_type": "code",
   "execution_count": 134,
   "id": "601a9bc5",
   "metadata": {},
   "outputs": [
    {
     "data": {
      "text/plain": [
       "((44552, 11), (44552,))"
      ]
     },
     "execution_count": 134,
     "metadata": {},
     "output_type": "execute_result"
    }
   ],
   "source": [
    "# Split our preprocessed data into our features and target arrays\n",
    "features = ['age','gender','height(cm)','weight(kg)','systolic','hemoglobin','triglyceride','HDL','serum creatinine','Gtp','smoking']\n",
    "X2 = new_smoking_df[features]\n",
    "y2 = new_smoking_df['smoking']\n",
    "X2.shape, y2.shape"
   ]
  },
  {
   "cell_type": "code",
   "execution_count": 135,
   "id": "a4148d3e",
   "metadata": {},
   "outputs": [],
   "source": [
    "# Split our preprocessed data into our features and target arrays\n",
    "y2 = new_smoking_df['smoking']\n",
    "X2 = X2.drop([\"smoking\"],axis = 1)\n",
    "\n",
    "# Split the preprocessed data into a training and testing dataset\n",
    "X_train2, X_test2, y_train2, y_test2 = train_test_split(X2, y2, test_size=0.25, random_state=42)"
   ]
  },
  {
   "cell_type": "code",
   "execution_count": 136,
   "id": "c5b82256",
   "metadata": {},
   "outputs": [
    {
     "name": "stdout",
     "output_type": "stream",
     "text": [
      "Score the X-train with y-train is :  0.7591428742443287\n",
      "Score the X-test  with y-test  is :  0.753636200395044\n",
      "Accuracy Score : 75.3636200395044\n",
      "Confusion Matrix :\n"
     ]
    },
    {
     "data": {
      "text/html": [
       "<div>\n",
       "<style scoped>\n",
       "    .dataframe tbody tr th:only-of-type {\n",
       "        vertical-align: middle;\n",
       "    }\n",
       "\n",
       "    .dataframe tbody tr th {\n",
       "        vertical-align: top;\n",
       "    }\n",
       "\n",
       "    .dataframe thead th {\n",
       "        text-align: right;\n",
       "    }\n",
       "</style>\n",
       "<table border=\"1\" class=\"dataframe\">\n",
       "  <thead>\n",
       "    <tr style=\"text-align: right;\">\n",
       "      <th></th>\n",
       "      <th>Predicted 0</th>\n",
       "      <th>Predicted 1</th>\n",
       "    </tr>\n",
       "  </thead>\n",
       "  <tbody>\n",
       "    <tr>\n",
       "      <th>Actual 0</th>\n",
       "      <td>5545</td>\n",
       "      <td>1528</td>\n",
       "    </tr>\n",
       "    <tr>\n",
       "      <th>Actual 1</th>\n",
       "      <td>1216</td>\n",
       "      <td>2849</td>\n",
       "    </tr>\n",
       "  </tbody>\n",
       "</table>\n",
       "</div>"
      ],
      "text/plain": [
       "          Predicted 0  Predicted 1\n",
       "Actual 0         5545         1528\n",
       "Actual 1         1216         2849"
      ]
     },
     "metadata": {},
     "output_type": "display_data"
    },
    {
     "name": "stdout",
     "output_type": "stream",
     "text": [
      "Classification Report :\n",
      "              precision    recall  f1-score   support\n",
      "\n",
      "           0       0.82      0.78      0.80      7073\n",
      "           1       0.65      0.70      0.67      4065\n",
      "\n",
      "    accuracy                           0.75     11138\n",
      "   macro avg       0.74      0.74      0.74     11138\n",
      "weighted avg       0.76      0.75      0.76     11138\n",
      "\n"
     ]
    }
   ],
   "source": [
    "# RE-Train an Gradientboosting classifier\n",
    "\n",
    "GB2 = GradientBoostingClassifier(max_depth=3, n_estimators=100, learning_rate=0.1)\n",
    "GB2.fit(X_train2, y_train2)\n",
    "\n",
    "GB_y_pred2 = GB2.predict(X_test2)\n",
    "\n",
    "GB_cm2 = confusion_matrix(y_test2, GB_y_pred2)\n",
    "GB_cm_df2 = pd.DataFrame(\n",
    "    GB_cm2, index=[\"Actual 0\", \"Actual 1\"], columns=[\"Predicted 0\", \"Predicted 1\"]\n",
    ")\n",
    "\n",
    "print(\"Score the X-train with y-train is : \", GB2.score(X_train2,y_train2))\n",
    "print(\"Score the X-test  with y-test  is : \", GB2.score(X_test2,y_test2))\n",
    "print(\"Accuracy Score :\",accuracy_score(y_test2,GB_y_pred2)*100)\n",
    "GBv2 = accuracy_score(y_test2,GB_y_pred2)\n",
    "print(\"Confusion Matrix :\")\n",
    "display(GB_cm_df2)\n",
    "print(\"Classification Report :\")\n",
    "print(classification_report(y_test2, GB_y_pred2))"
   ]
  },
  {
   "cell_type": "code",
   "execution_count": 137,
   "id": "21aebe18",
   "metadata": {},
   "outputs": [
    {
     "name": "stdout",
     "output_type": "stream",
     "text": [
      "Score the X-train with y-train is :  0.7748548512599509\n",
      "Score the X-test  with y-test  is :  0.7509427186209373\n",
      "Accuracy Score : 75.09427186209373\n",
      "Confusion Matrix :\n"
     ]
    },
    {
     "data": {
      "text/html": [
       "<div>\n",
       "<style scoped>\n",
       "    .dataframe tbody tr th:only-of-type {\n",
       "        vertical-align: middle;\n",
       "    }\n",
       "\n",
       "    .dataframe tbody tr th {\n",
       "        vertical-align: top;\n",
       "    }\n",
       "\n",
       "    .dataframe thead th {\n",
       "        text-align: right;\n",
       "    }\n",
       "</style>\n",
       "<table border=\"1\" class=\"dataframe\">\n",
       "  <thead>\n",
       "    <tr style=\"text-align: right;\">\n",
       "      <th></th>\n",
       "      <th>Predicted 0</th>\n",
       "      <th>Predicted 1</th>\n",
       "    </tr>\n",
       "  </thead>\n",
       "  <tbody>\n",
       "    <tr>\n",
       "      <th>Actual 0</th>\n",
       "      <td>5525</td>\n",
       "      <td>1548</td>\n",
       "    </tr>\n",
       "    <tr>\n",
       "      <th>Actual 1</th>\n",
       "      <td>1226</td>\n",
       "      <td>2839</td>\n",
       "    </tr>\n",
       "  </tbody>\n",
       "</table>\n",
       "</div>"
      ],
      "text/plain": [
       "          Predicted 0  Predicted 1\n",
       "Actual 0         5525         1548\n",
       "Actual 1         1226         2839"
      ]
     },
     "metadata": {},
     "output_type": "display_data"
    },
    {
     "name": "stdout",
     "output_type": "stream",
     "text": [
      "Classification Report :\n",
      "              precision    recall  f1-score   support\n",
      "\n",
      "           0       0.82      0.78      0.80      7073\n",
      "           1       0.65      0.70      0.67      4065\n",
      "\n",
      "    accuracy                           0.75     11138\n",
      "   macro avg       0.73      0.74      0.74     11138\n",
      "weighted avg       0.76      0.75      0.75     11138\n",
      "\n"
     ]
    }
   ],
   "source": [
    "# RE-train Random Forest Classifier test\n",
    "RFC2 = RandomForestClassifier(n_estimators=100, max_depth=15, min_samples_split=5, min_samples_leaf=45)\n",
    "RFC2.fit(X_train2, y_train2)\n",
    " \n",
    "RFC_y_pred2 = RFC2.predict(X_test2)\n",
    "\n",
    "RFC_cm2 = confusion_matrix(y_test2, RFC_y_pred2)\n",
    "RFC_cm_df2 = pd.DataFrame(\n",
    "    RFC_cm2, index=[\"Actual 0\", \"Actual 1\"], columns=[\"Predicted 0\", \"Predicted 1\"]\n",
    ")\n",
    "\n",
    "print(\"Score the X-train with y-train is : \", RFC2.score(X_train2,y_train2))\n",
    "print(\"Score the X-test  with y-test  is : \", RFC2.score(X_test2,y_test2))\n",
    "print(\"Accuracy Score :\",accuracy_score(y_test2,RFC_y_pred2)*100)\n",
    "RFCv2 = accuracy_score(y_test2,RFC_y_pred2)\n",
    "print(\"Confusion Matrix :\")\n",
    "display(RFC_cm_df2)\n",
    "print(\"Classification Report :\")\n",
    "print(classification_report(y_test2, RFC_y_pred2))"
   ]
  },
  {
   "cell_type": "code",
   "execution_count": 138,
   "id": "7cc775c5",
   "metadata": {},
   "outputs": [
    {
     "name": "stdout",
     "output_type": "stream",
     "text": [
      "Score the X-train with y-train is :  0.7334051595139762\n",
      "Score the X-test  with y-test  is :  0.7348716107021009\n",
      "Accuracy Score : 73.48716107021009\n",
      "Confusion Matrix :\n"
     ]
    },
    {
     "name": "stderr",
     "output_type": "stream",
     "text": [
      "/Users/gavinpayne/opt/anaconda3/envs/PythonData2/lib/python3.7/site-packages/sklearn/linear_model/_logistic.py:765: ConvergenceWarning: lbfgs failed to converge (status=1):\n",
      "STOP: TOTAL NO. of ITERATIONS REACHED LIMIT.\n",
      "\n",
      "Increase the number of iterations (max_iter) or scale the data as shown in:\n",
      "    https://scikit-learn.org/stable/modules/preprocessing.html\n",
      "Please also refer to the documentation for alternative solver options:\n",
      "    https://scikit-learn.org/stable/modules/linear_model.html#logistic-regression\n",
      "  extra_warning_msg=_LOGISTIC_SOLVER_CONVERGENCE_MSG)\n"
     ]
    },
    {
     "data": {
      "text/html": [
       "<div>\n",
       "<style scoped>\n",
       "    .dataframe tbody tr th:only-of-type {\n",
       "        vertical-align: middle;\n",
       "    }\n",
       "\n",
       "    .dataframe tbody tr th {\n",
       "        vertical-align: top;\n",
       "    }\n",
       "\n",
       "    .dataframe thead th {\n",
       "        text-align: right;\n",
       "    }\n",
       "</style>\n",
       "<table border=\"1\" class=\"dataframe\">\n",
       "  <thead>\n",
       "    <tr style=\"text-align: right;\">\n",
       "      <th></th>\n",
       "      <th>Predicted 0</th>\n",
       "      <th>Predicted 1</th>\n",
       "    </tr>\n",
       "  </thead>\n",
       "  <tbody>\n",
       "    <tr>\n",
       "      <th>Actual 0</th>\n",
       "      <td>5374</td>\n",
       "      <td>1699</td>\n",
       "    </tr>\n",
       "    <tr>\n",
       "      <th>Actual 1</th>\n",
       "      <td>1254</td>\n",
       "      <td>2811</td>\n",
       "    </tr>\n",
       "  </tbody>\n",
       "</table>\n",
       "</div>"
      ],
      "text/plain": [
       "          Predicted 0  Predicted 1\n",
       "Actual 0         5374         1699\n",
       "Actual 1         1254         2811"
      ]
     },
     "metadata": {},
     "output_type": "display_data"
    },
    {
     "name": "stdout",
     "output_type": "stream",
     "text": [
      "Classification Report :\n",
      "              precision    recall  f1-score   support\n",
      "\n",
      "           0       0.81      0.76      0.78      7073\n",
      "           1       0.62      0.69      0.66      4065\n",
      "\n",
      "    accuracy                           0.73     11138\n",
      "   macro avg       0.72      0.73      0.72     11138\n",
      "weighted avg       0.74      0.73      0.74     11138\n",
      "\n"
     ]
    }
   ],
   "source": [
    "# RE-train Logistic Regression test\n",
    "LG2 = LogisticRegression(solver='lbfgs',max_iter=200,random_state=1)\n",
    "LG2.fit(X_train2, y_train2)\n",
    "\n",
    "LG_y_pred2 = LG2.predict(X_test2)\n",
    "\n",
    "LG_cm2 = confusion_matrix(y_test2, LG_y_pred2)\n",
    "LG_cm_df2 = pd.DataFrame(\n",
    "    LG_cm2, index=[\"Actual 0\", \"Actual 1\"], columns=[\"Predicted 0\", \"Predicted 1\"]\n",
    ")\n",
    "\n",
    "print(\"Score the X-train with y-train is : \", LG2.score(X_train2,y_train2))\n",
    "print(\"Score the X-test  with y-test  is : \", LG2.score(X_test2,y_test2))\n",
    "print(\"Accuracy Score :\",accuracy_score(y_test2,LG_y_pred2)*100)\n",
    "LGv2 = accuracy_score(y_test2,LG_y_pred2)\n",
    "print(\"Confusion Matrix :\")\n",
    "display(LG_cm_df2)\n",
    "print(\"Classification Report :\")\n",
    "print(classification_report(y_test2, LG_y_pred2))"
   ]
  },
  {
   "cell_type": "code",
   "execution_count": 139,
   "id": "8012187d",
   "metadata": {},
   "outputs": [
    {
     "data": {
      "text/plain": [
       "0.7348716107021009"
      ]
     },
     "execution_count": 139,
     "metadata": {},
     "output_type": "execute_result"
    }
   ],
   "source": [
    "LGv2"
   ]
  },
  {
   "cell_type": "code",
   "execution_count": 140,
   "id": "2fad518f",
   "metadata": {},
   "outputs": [
    {
     "name": "stdout",
     "output_type": "stream",
     "text": [
      "Score the X-train with y-train is :  0.758484467588436\n",
      "Score the X-test  with y-test  is :  0.7546238103788832\n",
      "Accuracy Score : 75.46238103788832\n",
      "Confusion Matrix :\n"
     ]
    },
    {
     "data": {
      "text/html": [
       "<div>\n",
       "<style scoped>\n",
       "    .dataframe tbody tr th:only-of-type {\n",
       "        vertical-align: middle;\n",
       "    }\n",
       "\n",
       "    .dataframe tbody tr th {\n",
       "        vertical-align: top;\n",
       "    }\n",
       "\n",
       "    .dataframe thead th {\n",
       "        text-align: right;\n",
       "    }\n",
       "</style>\n",
       "<table border=\"1\" class=\"dataframe\">\n",
       "  <thead>\n",
       "    <tr style=\"text-align: right;\">\n",
       "      <th></th>\n",
       "      <th>Predicted 0</th>\n",
       "      <th>Predicted 1</th>\n",
       "    </tr>\n",
       "  </thead>\n",
       "  <tbody>\n",
       "    <tr>\n",
       "      <th>Actual 0</th>\n",
       "      <td>5518</td>\n",
       "      <td>1555</td>\n",
       "    </tr>\n",
       "    <tr>\n",
       "      <th>Actual 1</th>\n",
       "      <td>1178</td>\n",
       "      <td>2887</td>\n",
       "    </tr>\n",
       "  </tbody>\n",
       "</table>\n",
       "</div>"
      ],
      "text/plain": [
       "          Predicted 0  Predicted 1\n",
       "Actual 0         5518         1555\n",
       "Actual 1         1178         2887"
      ]
     },
     "metadata": {},
     "output_type": "display_data"
    },
    {
     "name": "stdout",
     "output_type": "stream",
     "text": [
      "Classification Report :\n",
      "              precision    recall  f1-score   support\n",
      "\n",
      "           0       0.82      0.78      0.80      7073\n",
      "           1       0.65      0.71      0.68      4065\n",
      "\n",
      "    accuracy                           0.75     11138\n",
      "   macro avg       0.74      0.75      0.74     11138\n",
      "weighted avg       0.76      0.75      0.76     11138\n",
      "\n"
     ]
    }
   ],
   "source": [
    "# RE-Train an XGBoost classifier\n",
    "XGB2 = XGBClassifier(max_depth=3, n_estimators=100, learning_rate=0.1)\n",
    "XGB2.fit(X_train2, y_train2)\n",
    "\n",
    "XGB_y_pred2 = XGB2.predict(X_test2)\n",
    "\n",
    "XGB_cm2 = confusion_matrix(y_test2, XGB_y_pred2)\n",
    "XGB_cm_df2 = pd.DataFrame(\n",
    "    XGB_cm2, index=[\"Actual 0\", \"Actual 1\"], columns=[\"Predicted 0\", \"Predicted 1\"]\n",
    ")\n",
    "\n",
    "print(\"Score the X-train with y-train is : \", XGB2.score(X_train2,y_train2))\n",
    "print(\"Score the X-test  with y-test  is : \", XGB2.score(X_test2,y_test2))\n",
    "print(\"Accuracy Score :\",accuracy_score(y_test2,XGB_y_pred2)*100)\n",
    "XGBv2 = accuracy_score(y_test2,XGB_y_pred2)\n",
    "print(\"Confusion Matrix :\")\n",
    "display(XGB_cm_df2)\n",
    "print(\"Classification Report :\")\n",
    "print(classification_report(y_test2, XGB_y_pred2))"
   ]
  },
  {
   "cell_type": "code",
   "execution_count": 81,
   "id": "3c4d3104",
   "metadata": {},
   "outputs": [],
   "source": [
    "# Fit random forest model for classification\n",
    "# rf_model = RandomForestClassifier(n_estimators=100, max_depth=15, min_samples_split=5, min_samples_leaf=45)\n",
    "# rf_model.fit(X_train, y_train)\n",
    "\n",
    "# # Predict probabilities of smoking status\n",
    "# y_prob_rf = rf_model.predict_proba(X_test)[:, 1]"
   ]
  },
  {
   "cell_type": "code",
   "execution_count": null,
   "id": "a224fee5",
   "metadata": {},
   "outputs": [],
   "source": []
  },
  {
   "cell_type": "code",
   "execution_count": 148,
   "id": "4ad82fff",
   "metadata": {},
   "outputs": [],
   "source": [
    "GB_model = GradientBoostingClassifier(max_depth=3, n_estimators=100, learning_rate=0.1)\n",
    "GB_model.fit(X_train2, y_train2)\n",
    "\n",
    "# Predict probabilities of smoking status\n",
    "y_prob_rf = GB_model.predict_proba(X_test2)[:, 1]"
   ]
  },
  {
   "cell_type": "code",
   "execution_count": 149,
   "id": "55240f3e",
   "metadata": {},
   "outputs": [
    {
     "data": {
      "text/plain": [
       "array([0.36192462, 0.5441057 , 0.50756148, ..., 0.76086053, 0.73732132,\n",
       "       0.02521873])"
      ]
     },
     "execution_count": 149,
     "metadata": {},
     "output_type": "execute_result"
    }
   ],
   "source": [
    "y_prob_rf"
   ]
  },
  {
   "cell_type": "code",
   "execution_count": 195,
   "id": "0a4d3355",
   "metadata": {},
   "outputs": [
    {
     "name": "stdout",
     "output_type": "stream",
     "text": [
      "[0.36192462 0.5441057  0.50756148 ... 0.76086053 0.73732132 0.02521873]\n",
      "[1 3 2 ... 3 3 1]\n",
      "[0 2 1 ... 2 2 0]\n"
     ]
    }
   ],
   "source": [
    "# Define the thresholds\n",
    "thresholds = [0.0, 0.4, 0.525, 1.0]\n",
    "# Get the predicted probabilities for the test set\n",
    "y_prob_rf = GB_model.predict_proba(X_test2)[:, 1]\n",
    "print(y_prob_rf)\n",
    "# Categorize the predicted probabilities based on the thresholds\n",
    "y_cat_rf = np.digitize(y_prob_rf, thresholds)\n",
    "print(y_cat_rf)\n",
    "# Subtract 1 from the categories to make them start from 0\n",
    "y_cat_rf -= 1\n",
    "print(y_cat_rf)"
   ]
  },
  {
   "cell_type": "code",
   "execution_count": 196,
   "id": "def17732",
   "metadata": {},
   "outputs": [
    {
     "data": {
      "text/plain": [
       "{1, 2, 3}"
      ]
     },
     "execution_count": 196,
     "metadata": {},
     "output_type": "execute_result"
    }
   ],
   "source": [
    "set(np.digitize(y_prob_rf, thresholds))"
   ]
  },
  {
   "cell_type": "code",
   "execution_count": 197,
   "id": "1b9ed9e3",
   "metadata": {},
   "outputs": [
    {
     "data": {
      "text/plain": [
       "{0, 1, 2}"
      ]
     },
     "execution_count": 197,
     "metadata": {},
     "output_type": "execute_result"
    }
   ],
   "source": [
    "set(y_cat_rf)"
   ]
  },
  {
   "cell_type": "code",
   "execution_count": 198,
   "id": "4f8c445a",
   "metadata": {},
   "outputs": [],
   "source": [
    "# Create a dictionary that contains both the model and the predicted categories\n",
    "model_dict = {'model': GB_model, 'categories': y_cat_rf}"
   ]
  },
  {
   "cell_type": "code",
   "execution_count": 199,
   "id": "d102739e",
   "metadata": {},
   "outputs": [
    {
     "data": {
      "text/plain": [
       "{'model': GradientBoostingClassifier(),\n",
       " 'categories': array([0, 2, 1, ..., 2, 2, 0])}"
      ]
     },
     "execution_count": 199,
     "metadata": {},
     "output_type": "execute_result"
    }
   ],
   "source": [
    "model_dict"
   ]
  },
  {
   "cell_type": "code",
   "execution_count": 200,
   "id": "546bfeca",
   "metadata": {},
   "outputs": [
    {
     "data": {
      "text/plain": [
       "['../model3.joblib']"
      ]
     },
     "execution_count": 200,
     "metadata": {},
     "output_type": "execute_result"
    }
   ],
   "source": [
    "# Save the dictionary to a .joblib file\n",
    "from joblib import dump\n",
    "# https://scikit-learn.org/stable/model_persistence.html\n",
    "dump(model_dict, '../model3.joblib')"
   ]
  },
  {
   "cell_type": "code",
   "execution_count": null,
   "id": "2b77d873",
   "metadata": {},
   "outputs": [],
   "source": []
  }
 ],
 "metadata": {
  "kernelspec": {
   "display_name": "Python 3 (ipykernel)",
   "language": "python",
   "name": "python3"
  },
  "language_info": {
   "codemirror_mode": {
    "name": "ipython",
    "version": 3
   },
   "file_extension": ".py",
   "mimetype": "text/x-python",
   "name": "python",
   "nbconvert_exporter": "python",
   "pygments_lexer": "ipython3",
   "version": "3.7.7"
  },
  "vscode": {
   "interpreter": {
    "hash": "f850961cf86af6bfbfea148a42afa87a6dcae71f5d27e6de0e5d99efe6284e3a"
   }
  }
 },
 "nbformat": 4,
 "nbformat_minor": 5
}
